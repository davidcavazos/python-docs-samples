{
  "cells": [
    {
      "cell_type": "code",
      "source": [
        "#@title ###### Licensed to the Apache Software Foundation (ASF), Version 2.0 (the \"License\")\n",
        "\n",
        "# Licensed to the Apache Software Foundation (ASF) under one\n",
        "# or more contributor license agreements. See the NOTICE file\n",
        "# distributed with this work for additional information\n",
        "# regarding copyright ownership. The ASF licenses this file\n",
        "# to you under the Apache License, Version 2.0 (the\n",
        "# \"License\"); you may not use this file except in compliance\n",
        "# with the License. You may obtain a copy of the License at\n",
        "#\n",
        "#   http://www.apache.org/licenses/LICENSE-2.0\n",
        "#\n",
        "# Unless required by applicable law or agreed to in writing,\n",
        "# software distributed under the License is distributed on an\n",
        "# \"AS IS\" BASIS, WITHOUT WARRANTIES OR CONDITIONS OF ANY\n",
        "# KIND, either express or implied. See the License for the\n",
        "# specific language governing permissions and limitations\n",
        "# under the License."
      ],
      "metadata": {
        "cellView": "form",
        "id": "g4jtzXwEvW2-"
      },
      "id": "g4jtzXwEvW2-",
      "execution_count": 1,
      "outputs": []
    },
    {
      "cell_type": "markdown",
      "metadata": {
        "id": "HA_AyDtdE0z_"
      },
      "source": [
        "# 🛑 Links (DELETE)\n",
        "\n",
        "- [Brijesh's notebook](https://colab.research.google.com/drive/1bA6z93JB-g1U2Mz6-YAdqpmoqsZBITdv?resourcekey=0-66KLAWuQZTLgNewtVIoLvA&usp=sharing)\n",
        "\n",
        "- [COGs](https://colab.sandbox.google.com/drive/1-5Nzn1_2Kea7COm-myrlmprtvY8H40qO?resourcekey=0-tnzED-IAVthJsl9t0bixtQ&usp=sharing)"
      ],
      "id": "HA_AyDtdE0z_"
    },
    {
      "cell_type": "markdown",
      "source": [
        "# 🌦️ Weather forecasting\n",
        "\n",
        "[![Open in Colab](https://colab.research.google.com/assets/colab-badge.svg)](https://colab.research.google.com/github/GoogleCloudPlatform/python-docs-samples/blob/main/people-and-planet-ai/weather-forecasting/README.ipynb)\n",
        "\n",
        "This notebook leverages geospatial satellite and precipitation data from [Google Earth Engine](https://earthengine.google.com/). Using satellite imagery, you'll build and train a model for rain \"nowcasting\" i.e. predicting the amount of rainfall for a given geospatial region and time in the immediate future.\n",
        "\n",
        "* ⏲️ **Time estimate**: 1 hour\n",
        "* 💰 **Cost estimate**: less than $1.00 USD\n",
        "\n",
        "💚 This is one of many **machine learning how-to samples** inspired from **real climate solutions** aired on the [People and Planet AI 🎥 series](https://www.youtube.com/playlist?list=PLIivdWyY5sqI-llB35Dcb187ZG155Rs_7)."
      ],
      "metadata": {
        "id": "HtysPAVSvcMg"
      },
      "id": "HtysPAVSvcMg"
    },
    {
      "cell_type": "markdown",
      "source": [
        "## 📒 Using this interactive notebook\n",
        "\n",
        "Click the **run** icons ▶️ of each section within this notebook.\n",
        "\n",
        "![Run cell](images/run-cell.png)\n",
        "\n",
        "> 💡 Alternatively, you can run the currently selected cell with `Ctrl + Enter` (or `⌘ + Enter` in a Mac).\n",
        "\n",
        "This **notebook code lets you train and deploy an ML model** from end-to-end. When you run a code cell, the code runs in the notebook's runtime, so you're not making any changes to your personal computer.\n",
        "\n",
        "> ⚠️ **To avoid any errors**, wait for each section to finish in their order before clicking the next “run” icon.\n",
        "\n",
        "This sample must be connected to a **Google Cloud project**, but nothing else is needed other than your Google Cloud project.\n",
        "\n",
        "You can use an _existing project_. Alternatively, you can create a new Cloud project [with cloud credits for free.](https://cloud.google.com/free/docs/gcp-free-tier)"
      ],
      "metadata": {
        "id": "AENPVmeYwqml"
      },
      "id": "AENPVmeYwqml"
    },
    {
      "cell_type": "markdown",
      "source": [
        "## 🛸 Steps summary\n",
        "\n",
        "This notebook is friendly for _beginner_, _intermediate_, and _advanced_ users of geospatial, data analytics and machine learning.\n",
        "\n",
        "Here's a quick summary of what you’ll go through:\n",
        "\n",
        "1. **📚 Understand the data**:\n",
        "  Go through what we want to achieve and explore the data we want to use as _inputs and outputs_ for our model.\n",
        "\n",
        "1. **🗄 Create the datasets** _(~20 minutes, costs [a few cents](https://cloud.google.com/dataflow/pricing))_:\n",
        "  Learn to use\n",
        "  [Apache Beam](https://beam.apache.org/)\n",
        "  to fetch data from\n",
        "  [Earth Engine](https://earthengine.google.com/)\n",
        "  in parallel, and create a dataset for our model in\n",
        "  [Dataflow](https://cloud.google.com/dataflow).\n",
        "\n",
        "1. **🧠 Train the model** _(~10 minutes, costs [a few cents](https://cloud.google.com/vertex-ai/pricing#custom-trained_models))_:\n",
        "  Build a simple _Fully Convolutional Network_ in\n",
        "  [PyTorch](https://pytorch.org/)\n",
        "  and train it in\n",
        "  [Vertex AI](https://cloud.google.com/vertex-ai/docs/training/custom-training)\n",
        "  with the dataset we created.\n",
        "\n",
        "1. **🔮 Model predictions**:\n",
        "  Get predictions of data the model has never seen before.\n",
        "\n",
        "  * 💻 **Local predictions** _(~5 minutes)_: Get predictions directly in this notebook without hosting the model.\n",
        "\n",
        "  * ☁️ **Cloud Run predictions** _(~10 minutes, [cost covered by free tier](https://cloud.google.com/run/pricing))_: Host the model in [Cloud Run](https://cloud.google.com/run), an easy to use and scalable serverless web service.\n",
        "\n",
        "1. (Optional) **🛠 Delete the project** to avoid ongoing costs."
      ],
      "metadata": {
        "id": "fa3Cm7wYwv3G"
      },
      "id": "fa3Cm7wYwv3G"
    },
    {
      "cell_type": "markdown",
      "source": [
        "# 🎬 Before you begin\n",
        "\n",
        "We first need to install all the requirements for the sample residing in GitHub.\n",
        "\n",
        "The sample contains a\n",
        "[`requirements.txt`](requirements.txt)\n",
        "file with all the dependencies we need to install, so let's use that."
      ],
      "metadata": {
        "id": "aCDdVrxbw8je"
      },
      "id": "aCDdVrxbw8je"
    },
    {
      "cell_type": "code",
      "source": [
        "repo_url = \"https://raw.githubusercontent.com/GoogleCloudPlatform/python-docs-samples/main/people-and-planet-ai/land-cover-classification\"\n",
        "!wget --quiet {repo_url}/requirements.txt"
      ],
      "metadata": {
        "id": "zM9R6whLxxHQ"
      },
      "id": "zM9R6whLxxHQ",
      "execution_count": 1,
      "outputs": []
    },
    {
      "cell_type": "markdown",
      "source": [
        "> 💡 For more information about the `requirements.txt` files, see the [`pip` user guide](https://pip.pypa.io/en/stable/user_guide/)."
      ],
      "metadata": {
        "id": "97uPU5CGx07T"
      },
      "id": "97uPU5CGx07T"
    },
    {
      "cell_type": "code",
      "source": [
        "# Update pip to use the latest version.\n",
        "!pip install --quiet --upgrade pip"
      ],
      "metadata": {
        "colab": {
          "base_uri": "https://localhost:8080/"
        },
        "id": "w1nh1fWRw-uT",
        "outputId": "94359d31-d561-4e2f-9d72-731a950275ad"
      },
      "id": "w1nh1fWRw-uT",
      "execution_count": 2,
      "outputs": [
        {
          "output_type": "stream",
          "name": "stdout",
          "text": [
            "\u001b[K     |████████████████████████████████| 2.1 MB 7.7 MB/s \n",
            "\u001b[?25h"
          ]
        }
      ]
    },
    {
      "cell_type": "code",
      "source": [
        "# Install the dependencies.\n",
        "!pip install --quiet -r requirements.txt\n",
        "\n",
        "# Restart the runtime by ending the process.\n",
        "exit()"
      ],
      "metadata": {
        "colab": {
          "base_uri": "https://localhost:8080/"
        },
        "id": "iD27LUb7w_3E",
        "outputId": "d604fbdf-23e6-4bc6-b251-ba2514ac4ace"
      },
      "id": "iD27LUb7w_3E",
      "execution_count": 3,
      "outputs": [
        {
          "output_type": "stream",
          "name": "stdout",
          "text": [
            "\u001b[33mWARNING: Running pip as the 'root' user can result in broken permissions and conflicting behaviour with the system package manager. It is recommended to use a virtual environment instead: https://pip.pypa.io/warnings/venv\u001b[0m\u001b[33m\n",
            "\u001b[0m"
          ]
        }
      ]
    },
    {
      "cell_type": "markdown",
      "source": [
        "> **🛑 Restart the runtime 🛑**\n",
        "\n",
        "Colab already comes with many dependencies pre-loaded.\n",
        "In order to ensure everything runs as expected, we **_must_ restart the runtime**. This allows Colab to load the latest versions of the libraries.\n",
        "\n",
        "![\"Runtime\" > \"Restart runtime\"](images/restart-runtime.png)"
      ],
      "metadata": {
        "id": "G75Y6HszxBL8"
      },
      "id": "G75Y6HszxBL8"
    },
    {
      "cell_type": "markdown",
      "source": [
        "# ☁️ My Google Cloud resources\n",
        "\n",
        "First, choose the Google Cloud _location_ where you want to run this sample.\n",
        "A good place to start is by choosing your [Google Cloud location](https://cloud.google.com/compute/docs/regions-zones).\n",
        "\n",
        "> ⚠️ Make sure you choose a location\n",
        "> available for all products: [Cloud Storage](https://cloud.google.com/storage/docs/locations),\n",
        "> [Vertex AI](https://cloud.google.com/vertex-ai/docs/general/locations),\n",
        "> [Dataflow](https://cloud.google.com/dataflow/docs/resources/locations), and\n",
        "> [Cloud Run](https://cloud.google.com/run/docs/locations).\n",
        "\n",
        "> 💡 Prefer locations that are geographically closer to you with\n",
        "> [low carbon emissions](https://cloud.google.com/sustainability/region-carbon), highlighted with the\n",
        "> ![Leaf](https://cloud.google.com/sustainability/region-carbon/gleaf.svg) icon.\n",
        "\n",
        "Make sure you have followed these steps to configure your Google Cloud project:\n",
        "\n",
        "1. Enable the APIs: _Dataflow, Earth Engine, Vertex AI, and Cloud Run_\n",
        "\n",
        "  <button>\n",
        "\n",
        "  [Click here to enable the APIs](https://console.cloud.google.com/flows/enableapi?apiid=dataflow.googleapis.com,earthengine.googleapis.com,aiplatform.googleapis.com,run.googleapis.com)\n",
        "  </button>\n",
        "\n",
        "1. Create a Cloud Storage bucket in your desired _location_.\n",
        "\n",
        "  <button>\n",
        "\n",
        "  [Click here to create a new Cloud Storage bucket](https://console.cloud.google.com/storage/create-bucket)\n",
        "  </button>\n",
        "\n",
        "1. Register your\n",
        "  [Compute Engine default service account](https://console.cloud.google.com/iam-admin/iam)\n",
        "  on Earth Engine.\n",
        "\n",
        "  <button>\n",
        "\n",
        "  [Click here to register your service account on Earth Engine](https://signup.earthengine.google.com/#!/service_accounts)\n",
        "  </button>\n",
        "\n",
        "Once you have everything ready, you can go ahead and fill in your Google Cloud resources in the following code cell.\n",
        "Make sure you run it!"
      ],
      "metadata": {
        "id": "mHvEEW6oyFGV"
      },
      "id": "mHvEEW6oyFGV"
    },
    {
      "cell_type": "code",
      "execution_count": 1,
      "metadata": {
        "colab": {
          "base_uri": "https://localhost:8080/"
        },
        "id": "F9ioLV5AAo94",
        "outputId": "c8f1f06d-133b-4e26-db14-8d329d90dad3",
        "cellView": "form"
      },
      "outputs": [
        {
          "output_type": "stream",
          "name": "stdout",
          "text": [
            "Updated property [core/project].\n",
            "/content\n",
            "Cloning into 'python-docs-samples'...\n",
            "remote: Enumerating objects: 81425, done.\u001b[K\n",
            "remote: Counting objects: 100% (175/175), done.\u001b[K\n",
            "remote: Compressing objects: 100% (111/111), done.\u001b[K\n",
            "remote: Total 81425 (delta 91), reused 119 (delta 56), pack-reused 81250\u001b[K\n",
            "Receiving objects: 100% (81425/81425), 135.24 MiB | 34.02 MiB/s, done.\n",
            "Resolving deltas: 100% (47190/47190), done.\n",
            "/content/python-docs-samples/people-and-planet-ai/weather-forecasting\n"
          ]
        }
      ],
      "source": [
        "#@title 🛑 Set up resources (DELETE)\n",
        "from __future__ import annotations\n",
        "\n",
        "import os\n",
        "from google.colab import auth\n",
        "\n",
        "project = \"dcavazos-lyra\"\n",
        "bucket = \"dcavazos-lyra\"\n",
        "location = \"us-central1\"\n",
        "\n",
        "auth.authenticate_user()\n",
        "os.environ['GOOGLE_CLOUD_PROJECT'] = project\n",
        "!gcloud config set project {project}\n",
        "\n",
        "%cd /content\n",
        "!rm -rf python-docs-samples\n",
        "\n",
        "# TODO: REPLACE WITH URL FROM UPSTREAM MAIN\n",
        "# !git clone https://github.com/GoogleCloudPlatform/python-docs-samples.git\n",
        "!git clone -b ppai-weather-forecasting https://github.com/davidcavazos/python-docs-samples.git\n",
        "%cd python-docs-samples/people-and-planet-ai/weather-forecasting\n",
        "\n",
        "import importlib\n",
        "import create_dataset\n",
        "import serving\n",
        "import serving.data\n",
        "import visualize\n",
        "importlib.reload(create_dataset)\n",
        "importlib.reload(serving)\n",
        "importlib.reload(serving.data)\n",
        "importlib.reload(visualize)\n",
        "None"
      ],
      "id": "F9ioLV5AAo94"
    },
    {
      "cell_type": "code",
      "source": [
        "from __future__ import annotations\n",
        "\n",
        "import os\n",
        "from google.colab import auth\n",
        "\n",
        "# Please fill in these values.\n",
        "project = \"\" #@param {type:\"string\"}\n",
        "bucket = \"\" #@param {type:\"string\"}\n",
        "location = \"us-central1\" #@param {type:\"string\"}\n",
        "\n",
        "# Quick input validations.\n",
        "assert project, \"⚠️ Please provide a Google Cloud project ID\"\n",
        "assert bucket, \"⚠️ Please provide a Cloud Storage bucket name\"\n",
        "assert not bucket.startswith('gs://'), f\"⚠️ Please remove the gs:// prefix from the bucket name: {bucket}\"\n",
        "assert location, \"⚠️ Please provide a Google Cloud location\"\n",
        "\n",
        "# Authenticate to Colab.\n",
        "auth.authenticate_user()\n",
        "\n",
        "# Set GOOGLE_CLOUD_PROJECT for google.auth.default().\n",
        "os.environ['GOOGLE_CLOUD_PROJECT'] = project\n",
        "\n",
        "# Set the gcloud project for other gcloud commands.\n",
        "!gcloud config set project {project}"
      ],
      "metadata": {
        "cellView": "form",
        "id": "YMPNUR0pyRvy"
      },
      "id": "YMPNUR0pyRvy",
      "execution_count": null,
      "outputs": []
    },
    {
      "cell_type": "code",
      "source": [
        "# Now let's get the code from GitHub and navigate to the sample.\n",
        "!git clone https://github.com/GoogleCloudPlatform/python-docs-samples.git\n",
        "%cd python-docs-samples/people-and-planet-ai/land-cover-classification"
      ],
      "metadata": {
        "id": "ROILrYfRypQ4"
      },
      "id": "ROILrYfRypQ4",
      "execution_count": null,
      "outputs": []
    },
    {
      "cell_type": "markdown",
      "source": [
        "Next, we have to authenticate Earth Engine and initialize it.\n",
        "Since we've already authenticated to this [Colab](https://www.youtube.com/watch?v=rNgswRZ2C1Y) and saved them as the [Google default credentials](https://google-auth.readthedocs.io/en/master/reference/google.auth.html#google.auth.default),\n",
        "we can reuse those credentials for Earth Engine.\n",
        "\n",
        "> 💡 Since we're making **large amounts of automated requests to Earth Engine**, we want to use the\n",
        "[high-volume endpoint](https://developers.google.com/earth-engine/cloud/highvolume)."
      ],
      "metadata": {
        "id": "L_BFYYeozUVj"
      },
      "id": "L_BFYYeozUVj"
    },
    {
      "cell_type": "code",
      "source": [
        "import ee\n",
        "import google.auth\n",
        "\n",
        "credentials, _ = google.auth.default()\n",
        "ee.Initialize(\n",
        "    credentials.with_quota_project(None),\n",
        "    project=project,\n",
        "    opt_url=\"https://earthengine-highvolume.googleapis.com\",\n",
        ")"
      ],
      "metadata": {
        "id": "bMpXvXm8zW9w"
      },
      "id": "bMpXvXm8zW9w",
      "execution_count": 2,
      "outputs": []
    },
    {
      "cell_type": "markdown",
      "source": [
        "# 📚 Understand the data\n",
        "\n",
        "The goal of our model is using satellite images to do _weather forecasting_.\n",
        "Specifically, we want to predict the amount of rainfall, measured in millimeters per hour, for the next two to six hours in the future.\n",
        "This kind of short term forecasting is called [weather _nowcasting_](https://en.wikipedia.org/wiki/Nowcasting_(meteorology)).\n",
        "\n",
        "When working with satellite data, each image has the shape `(width, height, bands)`.\n",
        "**Bands** contain _numeric values_ for each pixel in the image, like the measurements from specific satellite instruments for different ranges of the electromagnetic spectrum, or the probabilities of different classifications.\n",
        "If you're familiar with image classification problems, you can think of the bands as similar to an image's RGB channels."
      ],
      "metadata": {
        "id": "bp05WbBM596J"
      },
      "id": "bp05WbBM596J"
    },
    {
      "cell_type": "markdown",
      "metadata": {
        "id": "n6X3DTeYYAXM"
      },
      "source": [
        "## ☔️ Precipitation\n",
        "\n",
        "We use [NASA's Global Precipitation Measurement (GPM)](https://developers.google.com/earth-engine/datasets/catalog/NASA_GPM_L3_IMERG_V06) to get the amount of _precipitation_ of rain and snow, measured as millimeters per hour.\n",
        "We're interested in the `precipitationCal` band, which gives us the _calibrated_ precipitation amount.\n",
        "\n",
        "This is what we want to predict, so we'll use them for our _labels_.\n",
        "But it's also useful for the model to look at the precipitation from the _past_, so we'll also use it as _inputs_.\n",
        "\n",
        "In the [`serving/data.py`](serving/data.py) file, we defined a function called `get_gpm_sequence` which returns us an `ee.Image` with the precipitation values for the time sequence we give it.\n",
        "Each time step is stored in a different band with the index as a prefix.\n",
        "For example, the band corresponding to the first time step in the sequence would be `0_precipitationCal`, and the second time step would be `1_precipitationCal`."
      ],
      "id": "n6X3DTeYYAXM"
    },
    {
      "cell_type": "code",
      "execution_count": 3,
      "metadata": {
        "colab": {
          "base_uri": "https://localhost:8080/",
          "height": 670
        },
        "id": "57gC1gfC9_Gc",
        "outputId": "09958719-d2b0-435c-e563-140d508264aa"
      },
      "outputs": [
        {
          "output_type": "execute_result",
          "data": {
            "text/plain": [
              "<folium.folium.Map at 0x7f3cd9bfc910>"
            ],
            "text/html": [
              "<div style=\"width:100%;\"><div style=\"position:relative;width:100%;height:0;padding-bottom:60%;\"><span style=\"color:#565656\">Make this Notebook Trusted to load map: File -> Trust Notebook</span><iframe srcdoc=\"&lt;!DOCTYPE html&gt;\n",
              "&lt;html&gt;\n",
              "&lt;head&gt;\n",
              "    \n",
              "    &lt;meta http-equiv=&quot;content-type&quot; content=&quot;text/html; charset=UTF-8&quot; /&gt;\n",
              "    \n",
              "        &lt;script&gt;\n",
              "            L_NO_TOUCH = false;\n",
              "            L_DISABLE_3D = false;\n",
              "        &lt;/script&gt;\n",
              "    \n",
              "    &lt;style&gt;html, body {width: 100%;height: 100%;margin: 0;padding: 0;}&lt;/style&gt;\n",
              "    &lt;style&gt;#map {position:absolute;top:0;bottom:0;right:0;left:0;}&lt;/style&gt;\n",
              "    &lt;script src=&quot;https://cdn.jsdelivr.net/npm/leaflet@1.6.0/dist/leaflet.js&quot;&gt;&lt;/script&gt;\n",
              "    &lt;script src=&quot;https://code.jquery.com/jquery-1.12.4.min.js&quot;&gt;&lt;/script&gt;\n",
              "    &lt;script src=&quot;https://maxcdn.bootstrapcdn.com/bootstrap/3.2.0/js/bootstrap.min.js&quot;&gt;&lt;/script&gt;\n",
              "    &lt;script src=&quot;https://cdnjs.cloudflare.com/ajax/libs/Leaflet.awesome-markers/2.0.2/leaflet.awesome-markers.js&quot;&gt;&lt;/script&gt;\n",
              "    &lt;link rel=&quot;stylesheet&quot; href=&quot;https://cdn.jsdelivr.net/npm/leaflet@1.6.0/dist/leaflet.css&quot;/&gt;\n",
              "    &lt;link rel=&quot;stylesheet&quot; href=&quot;https://maxcdn.bootstrapcdn.com/bootstrap/3.2.0/css/bootstrap.min.css&quot;/&gt;\n",
              "    &lt;link rel=&quot;stylesheet&quot; href=&quot;https://maxcdn.bootstrapcdn.com/bootstrap/3.2.0/css/bootstrap-theme.min.css&quot;/&gt;\n",
              "    &lt;link rel=&quot;stylesheet&quot; href=&quot;https://maxcdn.bootstrapcdn.com/font-awesome/4.6.3/css/font-awesome.min.css&quot;/&gt;\n",
              "    &lt;link rel=&quot;stylesheet&quot; href=&quot;https://cdnjs.cloudflare.com/ajax/libs/Leaflet.awesome-markers/2.0.2/leaflet.awesome-markers.css&quot;/&gt;\n",
              "    &lt;link rel=&quot;stylesheet&quot; href=&quot;https://cdn.jsdelivr.net/gh/python-visualization/folium/folium/templates/leaflet.awesome.rotate.min.css&quot;/&gt;\n",
              "    \n",
              "            &lt;meta name=&quot;viewport&quot; content=&quot;width=device-width,\n",
              "                initial-scale=1.0, maximum-scale=1.0, user-scalable=no&quot; /&gt;\n",
              "            &lt;style&gt;\n",
              "                #map_56af7c55f4f034c5a3f65aac1aeed029 {\n",
              "                    position: relative;\n",
              "                    width: 100.0%;\n",
              "                    height: 100.0%;\n",
              "                    left: 0.0%;\n",
              "                    top: 0.0%;\n",
              "                }\n",
              "            &lt;/style&gt;\n",
              "        \n",
              "&lt;/head&gt;\n",
              "&lt;body&gt;\n",
              "    \n",
              "    \n",
              "            &lt;div class=&quot;folium-map&quot; id=&quot;map_56af7c55f4f034c5a3f65aac1aeed029&quot; &gt;&lt;/div&gt;\n",
              "        \n",
              "&lt;/body&gt;\n",
              "&lt;script&gt;\n",
              "    \n",
              "    \n",
              "            var map_56af7c55f4f034c5a3f65aac1aeed029 = L.map(\n",
              "                &quot;map_56af7c55f4f034c5a3f65aac1aeed029&quot;,\n",
              "                {\n",
              "                    center: [25.0, -90.0],\n",
              "                    crs: L.CRS.EPSG3857,\n",
              "                    zoom: 5,\n",
              "                    zoomControl: true,\n",
              "                    preferCanvas: false,\n",
              "                }\n",
              "            );\n",
              "\n",
              "            \n",
              "\n",
              "        \n",
              "    \n",
              "            var tile_layer_299f83a8bd448b31264f188bbd58c352 = L.tileLayer(\n",
              "                &quot;https://{s}.tile.openstreetmap.org/{z}/{x}/{y}.png&quot;,\n",
              "                {&quot;attribution&quot;: &quot;Data by \\u0026copy; \\u003ca href=\\&quot;http://openstreetmap.org\\&quot;\\u003eOpenStreetMap\\u003c/a\\u003e, under \\u003ca href=\\&quot;http://www.openstreetmap.org/copyright\\&quot;\\u003eODbL\\u003c/a\\u003e.&quot;, &quot;detectRetina&quot;: false, &quot;maxNativeZoom&quot;: 18, &quot;maxZoom&quot;: 18, &quot;minZoom&quot;: 0, &quot;noWrap&quot;: false, &quot;opacity&quot;: 1, &quot;subdomains&quot;: &quot;abc&quot;, &quot;tms&quot;: false}\n",
              "            ).addTo(map_56af7c55f4f034c5a3f65aac1aeed029);\n",
              "        \n",
              "    \n",
              "            var tile_layer_d2cbbe6e3a67b63ea9fc9a1f66efda3b = L.tileLayer(\n",
              "                &quot;https://earthengine-highvolume.googleapis.com/v1alpha/projects/dcavazos-lyra/maps/40a410deef8e1338fd28c9f5e14b6d13-d1656b32ff1524821e5faecdf47ce743/tiles/{z}/{x}/{y}&quot;,\n",
              "                {&quot;attribution&quot;: &quot;Map Data \\u0026copy; \\u003ca href=\\&quot;https://earthengine.google.com/\\&quot;\\u003eGoogle Earth Engine\\u003c/a\\u003e&quot;, &quot;detectRetina&quot;: false, &quot;maxNativeZoom&quot;: 18, &quot;maxZoom&quot;: 18, &quot;minZoom&quot;: 0, &quot;noWrap&quot;: false, &quot;opacity&quot;: 1, &quot;subdomains&quot;: &quot;abc&quot;, &quot;tms&quot;: false}\n",
              "            ).addTo(map_56af7c55f4f034c5a3f65aac1aeed029);\n",
              "        \n",
              "    \n",
              "            var layer_control_7d8b650d764e54fcdac0deff9bfaf5cd = {\n",
              "                base_layers : {\n",
              "                    &quot;openstreetmap&quot; : tile_layer_299f83a8bd448b31264f188bbd58c352,\n",
              "                },\n",
              "                overlays :  {\n",
              "                    &quot;[2019-09-02 18:00:00] Precipitation&quot; : tile_layer_d2cbbe6e3a67b63ea9fc9a1f66efda3b,\n",
              "                },\n",
              "            };\n",
              "            L.control.layers(\n",
              "                layer_control_7d8b650d764e54fcdac0deff9bfaf5cd.base_layers,\n",
              "                layer_control_7d8b650d764e54fcdac0deff9bfaf5cd.overlays,\n",
              "                {&quot;autoZIndex&quot;: true, &quot;collapsed&quot;: true, &quot;position&quot;: &quot;topright&quot;}\n",
              "            ).addTo(map_56af7c55f4f034c5a3f65aac1aeed029);\n",
              "        \n",
              "&lt;/script&gt;\n",
              "&lt;/html&gt;\" style=\"position:absolute;width:100%;height:100%;left:0;top:0;border:none !important;\" allowfullscreen webkitallowfullscreen mozallowfullscreen></iframe></div></div>"
            ]
          },
          "metadata": {},
          "execution_count": 3
        }
      ],
      "source": [
        "from datetime import datetime\n",
        "import folium\n",
        "import ee\n",
        "from serving.data import get_gpm_sequence\n",
        "\n",
        "def gpm_layer(image: ee.Image, label: str, i: int) -> folium.TileLayer:\n",
        "  vis_params = {\n",
        "      \"bands\": [f\"{i}_precipitationCal\"],\n",
        "      \"min\": 0.0,\n",
        "      \"max\": 20.0,\n",
        "      \"palette\": [\n",
        "          '000096', '0064ff', '00b4ff', '33db80', '9beb4a',\n",
        "          'ffeb00', 'ffb300', 'ff6400', 'eb1e00', 'af0000',\n",
        "      ],\n",
        "  }\n",
        "  # Mask (hide) pixels with no precipitation to see the map below.\n",
        "  image = image.mask(image.gt(0.1))\n",
        "  return folium.TileLayer(\n",
        "      name=f\"[{label}] Precipitation\",\n",
        "      tiles=image.getMapId(vis_params)[\"tile_fetcher\"].url_format,\n",
        "      attr='Map Data &copy; <a href=\"https://earthengine.google.com/\">Google Earth Engine</a>',\n",
        "      overlay = True,\n",
        "  )\n",
        "\n",
        "# Get the Earth Engine images.\n",
        "dates = [datetime(2019, 9, 2, 18)]\n",
        "image = get_gpm_sequence(dates)\n",
        "\n",
        "# Show map.\n",
        "map = folium.Map([25, -90], zoom_start=5)\n",
        "for i, date in enumerate(dates):\n",
        "  gpm_layer(image, str(date), i).add_to(map)\n",
        "folium.LayerControl().add_to(map)\n",
        "map"
      ],
      "id": "57gC1gfC9_Gc"
    },
    {
      "cell_type": "markdown",
      "source": [
        "> 💡 This is [Hurricane Dorian](https://en.wikipedia.org/wiki/Hurricane_Dorian), the strongest Category 5 hurricane on record in the Bahamas."
      ],
      "metadata": {
        "id": "ztJlKSjlMGAc"
      },
      "id": "ztJlKSjlMGAc"
    },
    {
      "cell_type": "markdown",
      "metadata": {
        "id": "y3NRvQndX66i"
      },
      "source": [
        "## 🌨 Cloud and moisture\n",
        "\n",
        "To predict precipitation, it's also useful to take a look at the _cloud_ and _moisture_.\n",
        "We use data from [GOES-16](https://developers.google.com/earth-engine/datasets/catalog/NOAA_GOES_16_MCMIPF), which was the first satellite from the [Geostationary Operational Environmental Satellites (GOES)](https://en.wikipedia.org/wiki/Geostationary_Operational_Environmental_Satellite) mission, operated by [NASA](https://en.wikipedia.org/wiki/NASA) and [NOAA](https://en.wikipedia.org/wiki/National_Oceanic_and_Atmospheric_Administration).\n",
        "It includes measurements from the _visible_, _near-infrared_, and _infrared_ spectrum.\n",
        "It is a [geostationary](https://en.wikipedia.org/wiki/Geostationary_orbit) satellite, so its orbit is synchronized with the Earth's rotation, and it provides a view centered in the Americas.\n",
        "\n",
        "In the [`serving/data.py`](serving/data.py) file, we defined a function called `get_goes16_sequence` which returns us an `ee.Image` with the cloud and moisture data for the time sequence we give it."
      ],
      "id": "y3NRvQndX66i"
    },
    {
      "cell_type": "code",
      "execution_count": 5,
      "metadata": {
        "colab": {
          "base_uri": "https://localhost:8080/",
          "height": 670
        },
        "id": "-T5BGzzZH57f",
        "outputId": "4fd8eed0-31b6-4bfc-b21f-f1b970a10a10"
      },
      "outputs": [
        {
          "output_type": "execute_result",
          "data": {
            "text/plain": [
              "<folium.folium.Map at 0x7f3cd955b250>"
            ],
            "text/html": [
              "<div style=\"width:100%;\"><div style=\"position:relative;width:100%;height:0;padding-bottom:60%;\"><span style=\"color:#565656\">Make this Notebook Trusted to load map: File -> Trust Notebook</span><iframe srcdoc=\"&lt;!DOCTYPE html&gt;\n",
              "&lt;html&gt;\n",
              "&lt;head&gt;\n",
              "    \n",
              "    &lt;meta http-equiv=&quot;content-type&quot; content=&quot;text/html; charset=UTF-8&quot; /&gt;\n",
              "    \n",
              "        &lt;script&gt;\n",
              "            L_NO_TOUCH = false;\n",
              "            L_DISABLE_3D = false;\n",
              "        &lt;/script&gt;\n",
              "    \n",
              "    &lt;style&gt;html, body {width: 100%;height: 100%;margin: 0;padding: 0;}&lt;/style&gt;\n",
              "    &lt;style&gt;#map {position:absolute;top:0;bottom:0;right:0;left:0;}&lt;/style&gt;\n",
              "    &lt;script src=&quot;https://cdn.jsdelivr.net/npm/leaflet@1.6.0/dist/leaflet.js&quot;&gt;&lt;/script&gt;\n",
              "    &lt;script src=&quot;https://code.jquery.com/jquery-1.12.4.min.js&quot;&gt;&lt;/script&gt;\n",
              "    &lt;script src=&quot;https://maxcdn.bootstrapcdn.com/bootstrap/3.2.0/js/bootstrap.min.js&quot;&gt;&lt;/script&gt;\n",
              "    &lt;script src=&quot;https://cdnjs.cloudflare.com/ajax/libs/Leaflet.awesome-markers/2.0.2/leaflet.awesome-markers.js&quot;&gt;&lt;/script&gt;\n",
              "    &lt;link rel=&quot;stylesheet&quot; href=&quot;https://cdn.jsdelivr.net/npm/leaflet@1.6.0/dist/leaflet.css&quot;/&gt;\n",
              "    &lt;link rel=&quot;stylesheet&quot; href=&quot;https://maxcdn.bootstrapcdn.com/bootstrap/3.2.0/css/bootstrap.min.css&quot;/&gt;\n",
              "    &lt;link rel=&quot;stylesheet&quot; href=&quot;https://maxcdn.bootstrapcdn.com/bootstrap/3.2.0/css/bootstrap-theme.min.css&quot;/&gt;\n",
              "    &lt;link rel=&quot;stylesheet&quot; href=&quot;https://maxcdn.bootstrapcdn.com/font-awesome/4.6.3/css/font-awesome.min.css&quot;/&gt;\n",
              "    &lt;link rel=&quot;stylesheet&quot; href=&quot;https://cdnjs.cloudflare.com/ajax/libs/Leaflet.awesome-markers/2.0.2/leaflet.awesome-markers.css&quot;/&gt;\n",
              "    &lt;link rel=&quot;stylesheet&quot; href=&quot;https://cdn.jsdelivr.net/gh/python-visualization/folium/folium/templates/leaflet.awesome.rotate.min.css&quot;/&gt;\n",
              "    \n",
              "            &lt;meta name=&quot;viewport&quot; content=&quot;width=device-width,\n",
              "                initial-scale=1.0, maximum-scale=1.0, user-scalable=no&quot; /&gt;\n",
              "            &lt;style&gt;\n",
              "                #map_af920acc83afb514961e365b05f923d5 {\n",
              "                    position: relative;\n",
              "                    width: 100.0%;\n",
              "                    height: 100.0%;\n",
              "                    left: 0.0%;\n",
              "                    top: 0.0%;\n",
              "                }\n",
              "            &lt;/style&gt;\n",
              "        \n",
              "&lt;/head&gt;\n",
              "&lt;body&gt;\n",
              "    \n",
              "    \n",
              "            &lt;div class=&quot;folium-map&quot; id=&quot;map_af920acc83afb514961e365b05f923d5&quot; &gt;&lt;/div&gt;\n",
              "        \n",
              "&lt;/body&gt;\n",
              "&lt;script&gt;\n",
              "    \n",
              "    \n",
              "            var map_af920acc83afb514961e365b05f923d5 = L.map(\n",
              "                &quot;map_af920acc83afb514961e365b05f923d5&quot;,\n",
              "                {\n",
              "                    center: [25.0, -90.0],\n",
              "                    crs: L.CRS.EPSG3857,\n",
              "                    zoom: 5,\n",
              "                    zoomControl: true,\n",
              "                    preferCanvas: false,\n",
              "                }\n",
              "            );\n",
              "\n",
              "            \n",
              "\n",
              "        \n",
              "    \n",
              "            var tile_layer_c05a95b9979c09bfc2752a8bfd16d26b = L.tileLayer(\n",
              "                &quot;https://{s}.tile.openstreetmap.org/{z}/{x}/{y}.png&quot;,\n",
              "                {&quot;attribution&quot;: &quot;Data by \\u0026copy; \\u003ca href=\\&quot;http://openstreetmap.org\\&quot;\\u003eOpenStreetMap\\u003c/a\\u003e, under \\u003ca href=\\&quot;http://www.openstreetmap.org/copyright\\&quot;\\u003eODbL\\u003c/a\\u003e.&quot;, &quot;detectRetina&quot;: false, &quot;maxNativeZoom&quot;: 18, &quot;maxZoom&quot;: 18, &quot;minZoom&quot;: 0, &quot;noWrap&quot;: false, &quot;opacity&quot;: 1, &quot;subdomains&quot;: &quot;abc&quot;, &quot;tms&quot;: false}\n",
              "            ).addTo(map_af920acc83afb514961e365b05f923d5);\n",
              "        \n",
              "    \n",
              "            var tile_layer_3618e29b7bb61476678f5b8fb1797d52 = L.tileLayer(\n",
              "                &quot;https://earthengine-highvolume.googleapis.com/v1alpha/projects/dcavazos-lyra/maps/ceac4cced7b9f42d115b096ed5d17d94-43a7da95a05c147a1c40a5aa2d286fa0/tiles/{z}/{x}/{y}&quot;,\n",
              "                {&quot;attribution&quot;: &quot;Map Data \\u0026copy; \\u003ca href=\\&quot;https://earthengine.google.com/\\&quot;\\u003eGoogle Earth Engine\\u003c/a\\u003e&quot;, &quot;detectRetina&quot;: false, &quot;maxNativeZoom&quot;: 18, &quot;maxZoom&quot;: 18, &quot;minZoom&quot;: 0, &quot;noWrap&quot;: false, &quot;opacity&quot;: 1, &quot;subdomains&quot;: &quot;abc&quot;, &quot;tms&quot;: false}\n",
              "            ).addTo(map_af920acc83afb514961e365b05f923d5);\n",
              "        \n",
              "    \n",
              "            var layer_control_7f91ebb768f1cf4b4518e6bc19bb6336 = {\n",
              "                base_layers : {\n",
              "                    &quot;openstreetmap&quot; : tile_layer_c05a95b9979c09bfc2752a8bfd16d26b,\n",
              "                },\n",
              "                overlays :  {\n",
              "                    &quot;[2019-09-02 18:00:00] Cloud and moisture&quot; : tile_layer_3618e29b7bb61476678f5b8fb1797d52,\n",
              "                },\n",
              "            };\n",
              "            L.control.layers(\n",
              "                layer_control_7f91ebb768f1cf4b4518e6bc19bb6336.base_layers,\n",
              "                layer_control_7f91ebb768f1cf4b4518e6bc19bb6336.overlays,\n",
              "                {&quot;autoZIndex&quot;: true, &quot;collapsed&quot;: true, &quot;position&quot;: &quot;topright&quot;}\n",
              "            ).addTo(map_af920acc83afb514961e365b05f923d5);\n",
              "        \n",
              "&lt;/script&gt;\n",
              "&lt;/html&gt;\" style=\"position:absolute;width:100%;height:100%;left:0;top:0;border:none !important;\" allowfullscreen webkitallowfullscreen mozallowfullscreen></iframe></div></div>"
            ]
          },
          "metadata": {},
          "execution_count": 5
        }
      ],
      "source": [
        "from datetime import datetime\n",
        "import folium\n",
        "import ee\n",
        "from serving.data import get_goes16_sequence\n",
        "\n",
        "def goes16_layer(image: ee.Image, label: str, i: int) -> folium.TileLayer:\n",
        "  vis_params = {\n",
        "      \"bands\": [f\"{i}_CMI_C02\", f\"{i}_CMI_C03\", f\"{i}_CMI_C01\"],\n",
        "      \"min\": 0.0,\n",
        "      \"max\": 3000.0,\n",
        "  }\n",
        "  return folium.TileLayer(\n",
        "      name=f\"[{label}] Cloud and moisture\",\n",
        "      tiles=image.getMapId(vis_params)[\"tile_fetcher\"].url_format,\n",
        "      attr='Map Data &copy; <a href=\"https://earthengine.google.com/\">Google Earth Engine</a>',\n",
        "      overlay = True,\n",
        "  )\n",
        "\n",
        "# Get the Earth Engine image.\n",
        "dates = [datetime(2019, 9, 2, 18)]\n",
        "image = get_goes16_sequence(dates)\n",
        "\n",
        "# Show map.\n",
        "map = folium.Map([25, -90], zoom_start=5)\n",
        "for i, date in enumerate(dates):\n",
        "  goes16_layer(image, str(date), i).add_to(map)\n",
        "folium.LayerControl().add_to(map)\n",
        "map"
      ],
      "id": "-T5BGzzZH57f"
    },
    {
      "cell_type": "markdown",
      "metadata": {
        "id": "gqUhsl1UE2Xs"
      },
      "source": [
        "## 🏔 Elevation\n",
        "\n",
        "Elevation could also give the model useful information.\n",
        "We use the [MERIT DEM](https://developers.google.com/earth-engine/datasets/catalog/MERIT_DEM_v1_0_3) dataset to get the elvation.\n",
        "\n",
        "In the [`serving/data.py`](serving/data.py) file, we defined a function called `get_elevation` which returns us an `ee.Image` with the elevation measured in meters."
      ],
      "id": "gqUhsl1UE2Xs"
    },
    {
      "cell_type": "code",
      "execution_count": 6,
      "metadata": {
        "colab": {
          "base_uri": "https://localhost:8080/",
          "height": 670
        },
        "id": "vv_HM9f-KExw",
        "outputId": "306d95db-9397-4aa5-960d-17e2cf8cbcdb"
      },
      "outputs": [
        {
          "output_type": "execute_result",
          "data": {
            "text/plain": [
              "<folium.folium.Map at 0x7fd3737a2490>"
            ],
            "text/html": [
              "<div style=\"width:100%;\"><div style=\"position:relative;width:100%;height:0;padding-bottom:60%;\"><span style=\"color:#565656\">Make this Notebook Trusted to load map: File -> Trust Notebook</span><iframe srcdoc=\"&lt;!DOCTYPE html&gt;\n",
              "&lt;html&gt;\n",
              "&lt;head&gt;\n",
              "    \n",
              "    &lt;meta http-equiv=&quot;content-type&quot; content=&quot;text/html; charset=UTF-8&quot; /&gt;\n",
              "    \n",
              "        &lt;script&gt;\n",
              "            L_NO_TOUCH = false;\n",
              "            L_DISABLE_3D = false;\n",
              "        &lt;/script&gt;\n",
              "    \n",
              "    &lt;style&gt;html, body {width: 100%;height: 100%;margin: 0;padding: 0;}&lt;/style&gt;\n",
              "    &lt;style&gt;#map {position:absolute;top:0;bottom:0;right:0;left:0;}&lt;/style&gt;\n",
              "    &lt;script src=&quot;https://cdn.jsdelivr.net/npm/leaflet@1.6.0/dist/leaflet.js&quot;&gt;&lt;/script&gt;\n",
              "    &lt;script src=&quot;https://code.jquery.com/jquery-1.12.4.min.js&quot;&gt;&lt;/script&gt;\n",
              "    &lt;script src=&quot;https://maxcdn.bootstrapcdn.com/bootstrap/3.2.0/js/bootstrap.min.js&quot;&gt;&lt;/script&gt;\n",
              "    &lt;script src=&quot;https://cdnjs.cloudflare.com/ajax/libs/Leaflet.awesome-markers/2.0.2/leaflet.awesome-markers.js&quot;&gt;&lt;/script&gt;\n",
              "    &lt;link rel=&quot;stylesheet&quot; href=&quot;https://cdn.jsdelivr.net/npm/leaflet@1.6.0/dist/leaflet.css&quot;/&gt;\n",
              "    &lt;link rel=&quot;stylesheet&quot; href=&quot;https://maxcdn.bootstrapcdn.com/bootstrap/3.2.0/css/bootstrap.min.css&quot;/&gt;\n",
              "    &lt;link rel=&quot;stylesheet&quot; href=&quot;https://maxcdn.bootstrapcdn.com/bootstrap/3.2.0/css/bootstrap-theme.min.css&quot;/&gt;\n",
              "    &lt;link rel=&quot;stylesheet&quot; href=&quot;https://maxcdn.bootstrapcdn.com/font-awesome/4.6.3/css/font-awesome.min.css&quot;/&gt;\n",
              "    &lt;link rel=&quot;stylesheet&quot; href=&quot;https://cdnjs.cloudflare.com/ajax/libs/Leaflet.awesome-markers/2.0.2/leaflet.awesome-markers.css&quot;/&gt;\n",
              "    &lt;link rel=&quot;stylesheet&quot; href=&quot;https://cdn.jsdelivr.net/gh/python-visualization/folium/folium/templates/leaflet.awesome.rotate.min.css&quot;/&gt;\n",
              "    \n",
              "            &lt;meta name=&quot;viewport&quot; content=&quot;width=device-width,\n",
              "                initial-scale=1.0, maximum-scale=1.0, user-scalable=no&quot; /&gt;\n",
              "            &lt;style&gt;\n",
              "                #map_048eb65e9b73dc2eb9979cb25e21584a {\n",
              "                    position: relative;\n",
              "                    width: 100.0%;\n",
              "                    height: 100.0%;\n",
              "                    left: 0.0%;\n",
              "                    top: 0.0%;\n",
              "                }\n",
              "            &lt;/style&gt;\n",
              "        \n",
              "&lt;/head&gt;\n",
              "&lt;body&gt;\n",
              "    \n",
              "    \n",
              "            &lt;div class=&quot;folium-map&quot; id=&quot;map_048eb65e9b73dc2eb9979cb25e21584a&quot; &gt;&lt;/div&gt;\n",
              "        \n",
              "&lt;/body&gt;\n",
              "&lt;script&gt;\n",
              "    \n",
              "    \n",
              "            var map_048eb65e9b73dc2eb9979cb25e21584a = L.map(\n",
              "                &quot;map_048eb65e9b73dc2eb9979cb25e21584a&quot;,\n",
              "                {\n",
              "                    center: [25.0, -90.0],\n",
              "                    crs: L.CRS.EPSG3857,\n",
              "                    zoom: 5,\n",
              "                    zoomControl: true,\n",
              "                    preferCanvas: false,\n",
              "                }\n",
              "            );\n",
              "\n",
              "            \n",
              "\n",
              "        \n",
              "    \n",
              "            var tile_layer_3e0f95095659768b8190f274f66ac394 = L.tileLayer(\n",
              "                &quot;https://{s}.tile.openstreetmap.org/{z}/{x}/{y}.png&quot;,\n",
              "                {&quot;attribution&quot;: &quot;Data by \\u0026copy; \\u003ca href=\\&quot;http://openstreetmap.org\\&quot;\\u003eOpenStreetMap\\u003c/a\\u003e, under \\u003ca href=\\&quot;http://www.openstreetmap.org/copyright\\&quot;\\u003eODbL\\u003c/a\\u003e.&quot;, &quot;detectRetina&quot;: false, &quot;maxNativeZoom&quot;: 18, &quot;maxZoom&quot;: 18, &quot;minZoom&quot;: 0, &quot;noWrap&quot;: false, &quot;opacity&quot;: 1, &quot;subdomains&quot;: &quot;abc&quot;, &quot;tms&quot;: false}\n",
              "            ).addTo(map_048eb65e9b73dc2eb9979cb25e21584a);\n",
              "        \n",
              "    \n",
              "            var tile_layer_622e26ea0afe745cd2c28299a2ba76ba = L.tileLayer(\n",
              "                &quot;https://earthengine-highvolume.googleapis.com/v1alpha/projects/dcavazos-lyra/maps/576c4d14416b2baa94dba146aa2b3ce2-45fab3741d503989c7744eb74127f562/tiles/{z}/{x}/{y}&quot;,\n",
              "                {&quot;attribution&quot;: &quot;Map Data \\u0026copy; \\u003ca href=\\&quot;https://earthengine.google.com/\\&quot;\\u003eGoogle Earth Engine\\u003c/a\\u003e&quot;, &quot;detectRetina&quot;: false, &quot;maxNativeZoom&quot;: 18, &quot;maxZoom&quot;: 18, &quot;minZoom&quot;: 0, &quot;noWrap&quot;: false, &quot;opacity&quot;: 1, &quot;subdomains&quot;: &quot;abc&quot;, &quot;tms&quot;: false}\n",
              "            ).addTo(map_048eb65e9b73dc2eb9979cb25e21584a);\n",
              "        \n",
              "    \n",
              "            var layer_control_c30785fdabbb584a4f09a8a7b90ecbe1 = {\n",
              "                base_layers : {\n",
              "                    &quot;openstreetmap&quot; : tile_layer_3e0f95095659768b8190f274f66ac394,\n",
              "                },\n",
              "                overlays :  {\n",
              "                    &quot;Elevation&quot; : tile_layer_622e26ea0afe745cd2c28299a2ba76ba,\n",
              "                },\n",
              "            };\n",
              "            L.control.layers(\n",
              "                layer_control_c30785fdabbb584a4f09a8a7b90ecbe1.base_layers,\n",
              "                layer_control_c30785fdabbb584a4f09a8a7b90ecbe1.overlays,\n",
              "                {&quot;autoZIndex&quot;: true, &quot;collapsed&quot;: true, &quot;position&quot;: &quot;topright&quot;}\n",
              "            ).addTo(map_048eb65e9b73dc2eb9979cb25e21584a);\n",
              "        \n",
              "&lt;/script&gt;\n",
              "&lt;/html&gt;\" style=\"position:absolute;width:100%;height:100%;left:0;top:0;border:none !important;\" allowfullscreen webkitallowfullscreen mozallowfullscreen></iframe></div></div>"
            ]
          },
          "metadata": {},
          "execution_count": 6
        }
      ],
      "source": [
        "import folium\n",
        "from serving.data import get_elevation\n",
        "\n",
        "def elevation_layer() -> folium.TileLayer:\n",
        "  image = get_elevation()\n",
        "  vis_params = {\n",
        "      \"bands\": [\"elevation\"],\n",
        "      \"min\": 0.0,\n",
        "      \"max\": 3000.0,\n",
        "      \"palette\": ['000000', '478FCD', '86C58E', 'AFC35E', '8F7131', 'B78D4F', 'E2B8A6', 'FFFFFF']\n",
        "  }\n",
        "  return folium.TileLayer(\n",
        "      name=\"Elevation\",\n",
        "      tiles=image.getMapId(vis_params)[\"tile_fetcher\"].url_format,\n",
        "      attr='Map Data &copy; <a href=\"https://earthengine.google.com/\">Google Earth Engine</a>',\n",
        "      overlay = True,\n",
        "  )\n",
        "\n",
        "# Show map.\n",
        "map = folium.Map([25, -90], zoom_start=5)\n",
        "elevation_layer().add_to(map)\n",
        "folium.LayerControl().add_to(map)\n",
        "map"
      ],
      "id": "vv_HM9f-KExw"
    },
    {
      "cell_type": "markdown",
      "metadata": {
        "id": "AO4CyGgjYOME"
      },
      "source": [
        "## 🛰 Inputs\n",
        "\n",
        "In this example, we also consider multiple images across time, since weather forecasting is more accurate when we look at how the cloud cover changes over a period of time.\n",
        "Particularly, we consider 3 data points - 4 hours prior, 2 hours prior, and current.\n",
        "\n",
        "> 💡 To give the model a better picture, we chose to feed it with _at least three_ data points from the past.\n",
        "> With only a single point, the model wouldn't know if the rain is increasing or decreasing.\n",
        "> Two points would give it an idea of the trend.\n",
        "> Three or more points would give it an idea of how fast it's changing.\n",
        "> The more points, the more it can see.\n",
        "\n",
        "In the [`serving/data.py`](serving/data.py) file, we defined a function called `get_inputs_image` which returns us an `ee.Image` with bands for all the time steps for cloud and moisture, and for precipitation, alongside with the elevation."
      ],
      "id": "AO4CyGgjYOME"
    },
    {
      "cell_type": "code",
      "execution_count": 7,
      "metadata": {
        "colab": {
          "base_uri": "https://localhost:8080/",
          "height": 670
        },
        "id": "5SbSErwSUCtZ",
        "outputId": "acdf6d6e-6808-4dc0-9427-1d88044b6669"
      },
      "outputs": [
        {
          "output_type": "execute_result",
          "data": {
            "text/plain": [
              "<folium.folium.Map at 0x7fd3666d8790>"
            ],
            "text/html": [
              "<div style=\"width:100%;\"><div style=\"position:relative;width:100%;height:0;padding-bottom:60%;\"><span style=\"color:#565656\">Make this Notebook Trusted to load map: File -> Trust Notebook</span><iframe srcdoc=\"&lt;!DOCTYPE html&gt;\n",
              "&lt;html&gt;\n",
              "&lt;head&gt;\n",
              "    \n",
              "    &lt;meta http-equiv=&quot;content-type&quot; content=&quot;text/html; charset=UTF-8&quot; /&gt;\n",
              "    \n",
              "        &lt;script&gt;\n",
              "            L_NO_TOUCH = false;\n",
              "            L_DISABLE_3D = false;\n",
              "        &lt;/script&gt;\n",
              "    \n",
              "    &lt;style&gt;html, body {width: 100%;height: 100%;margin: 0;padding: 0;}&lt;/style&gt;\n",
              "    &lt;style&gt;#map {position:absolute;top:0;bottom:0;right:0;left:0;}&lt;/style&gt;\n",
              "    &lt;script src=&quot;https://cdn.jsdelivr.net/npm/leaflet@1.6.0/dist/leaflet.js&quot;&gt;&lt;/script&gt;\n",
              "    &lt;script src=&quot;https://code.jquery.com/jquery-1.12.4.min.js&quot;&gt;&lt;/script&gt;\n",
              "    &lt;script src=&quot;https://maxcdn.bootstrapcdn.com/bootstrap/3.2.0/js/bootstrap.min.js&quot;&gt;&lt;/script&gt;\n",
              "    &lt;script src=&quot;https://cdnjs.cloudflare.com/ajax/libs/Leaflet.awesome-markers/2.0.2/leaflet.awesome-markers.js&quot;&gt;&lt;/script&gt;\n",
              "    &lt;link rel=&quot;stylesheet&quot; href=&quot;https://cdn.jsdelivr.net/npm/leaflet@1.6.0/dist/leaflet.css&quot;/&gt;\n",
              "    &lt;link rel=&quot;stylesheet&quot; href=&quot;https://maxcdn.bootstrapcdn.com/bootstrap/3.2.0/css/bootstrap.min.css&quot;/&gt;\n",
              "    &lt;link rel=&quot;stylesheet&quot; href=&quot;https://maxcdn.bootstrapcdn.com/bootstrap/3.2.0/css/bootstrap-theme.min.css&quot;/&gt;\n",
              "    &lt;link rel=&quot;stylesheet&quot; href=&quot;https://maxcdn.bootstrapcdn.com/font-awesome/4.6.3/css/font-awesome.min.css&quot;/&gt;\n",
              "    &lt;link rel=&quot;stylesheet&quot; href=&quot;https://cdnjs.cloudflare.com/ajax/libs/Leaflet.awesome-markers/2.0.2/leaflet.awesome-markers.css&quot;/&gt;\n",
              "    &lt;link rel=&quot;stylesheet&quot; href=&quot;https://cdn.jsdelivr.net/gh/python-visualization/folium/folium/templates/leaflet.awesome.rotate.min.css&quot;/&gt;\n",
              "    \n",
              "            &lt;meta name=&quot;viewport&quot; content=&quot;width=device-width,\n",
              "                initial-scale=1.0, maximum-scale=1.0, user-scalable=no&quot; /&gt;\n",
              "            &lt;style&gt;\n",
              "                #map_65d79f06e0ffbd81f373db4f0713190c {\n",
              "                    position: relative;\n",
              "                    width: 100.0%;\n",
              "                    height: 100.0%;\n",
              "                    left: 0.0%;\n",
              "                    top: 0.0%;\n",
              "                }\n",
              "            &lt;/style&gt;\n",
              "        \n",
              "&lt;/head&gt;\n",
              "&lt;body&gt;\n",
              "    \n",
              "    \n",
              "            &lt;div class=&quot;folium-map&quot; id=&quot;map_65d79f06e0ffbd81f373db4f0713190c&quot; &gt;&lt;/div&gt;\n",
              "        \n",
              "&lt;/body&gt;\n",
              "&lt;script&gt;\n",
              "    \n",
              "    \n",
              "            var map_65d79f06e0ffbd81f373db4f0713190c = L.map(\n",
              "                &quot;map_65d79f06e0ffbd81f373db4f0713190c&quot;,\n",
              "                {\n",
              "                    center: [25.0, -90.0],\n",
              "                    crs: L.CRS.EPSG3857,\n",
              "                    zoom: 5,\n",
              "                    zoomControl: true,\n",
              "                    preferCanvas: false,\n",
              "                }\n",
              "            );\n",
              "\n",
              "            \n",
              "\n",
              "        \n",
              "    \n",
              "            var tile_layer_9e04f750ed74cf0c34c36cbe169a8919 = L.tileLayer(\n",
              "                &quot;https://{s}.tile.openstreetmap.org/{z}/{x}/{y}.png&quot;,\n",
              "                {&quot;attribution&quot;: &quot;Data by \\u0026copy; \\u003ca href=\\&quot;http://openstreetmap.org\\&quot;\\u003eOpenStreetMap\\u003c/a\\u003e, under \\u003ca href=\\&quot;http://www.openstreetmap.org/copyright\\&quot;\\u003eODbL\\u003c/a\\u003e.&quot;, &quot;detectRetina&quot;: false, &quot;maxNativeZoom&quot;: 18, &quot;maxZoom&quot;: 18, &quot;minZoom&quot;: 0, &quot;noWrap&quot;: false, &quot;opacity&quot;: 1, &quot;subdomains&quot;: &quot;abc&quot;, &quot;tms&quot;: false}\n",
              "            ).addTo(map_65d79f06e0ffbd81f373db4f0713190c);\n",
              "        \n",
              "    \n",
              "            var tile_layer_da92f22a78f3655b7f7b4c8126529d7e = L.tileLayer(\n",
              "                &quot;https://earthengine-highvolume.googleapis.com/v1alpha/projects/dcavazos-lyra/maps/576c4d14416b2baa94dba146aa2b3ce2-3e49ce7448459f12514c87dc1ca44537/tiles/{z}/{x}/{y}&quot;,\n",
              "                {&quot;attribution&quot;: &quot;Map Data \\u0026copy; \\u003ca href=\\&quot;https://earthengine.google.com/\\&quot;\\u003eGoogle Earth Engine\\u003c/a\\u003e&quot;, &quot;detectRetina&quot;: false, &quot;maxNativeZoom&quot;: 18, &quot;maxZoom&quot;: 18, &quot;minZoom&quot;: 0, &quot;noWrap&quot;: false, &quot;opacity&quot;: 1, &quot;subdomains&quot;: &quot;abc&quot;, &quot;tms&quot;: false}\n",
              "            ).addTo(map_65d79f06e0ffbd81f373db4f0713190c);\n",
              "        \n",
              "    \n",
              "            var tile_layer_dee878f826739c2e69377f60a7fb9403 = L.tileLayer(\n",
              "                &quot;https://earthengine-highvolume.googleapis.com/v1alpha/projects/dcavazos-lyra/maps/f770152018597b029b804e8311d3539d-09bf0316e7367479ca61f6f4ed33f8db/tiles/{z}/{x}/{y}&quot;,\n",
              "                {&quot;attribution&quot;: &quot;Map Data \\u0026copy; \\u003ca href=\\&quot;https://earthengine.google.com/\\&quot;\\u003eGoogle Earth Engine\\u003c/a\\u003e&quot;, &quot;detectRetina&quot;: false, &quot;maxNativeZoom&quot;: 18, &quot;maxZoom&quot;: 18, &quot;minZoom&quot;: 0, &quot;noWrap&quot;: false, &quot;opacity&quot;: 1, &quot;subdomains&quot;: &quot;abc&quot;, &quot;tms&quot;: false}\n",
              "            ).addTo(map_65d79f06e0ffbd81f373db4f0713190c);\n",
              "        \n",
              "    \n",
              "            var tile_layer_255b16bc0a0094a55e74048088cfdfef = L.tileLayer(\n",
              "                &quot;https://earthengine-highvolume.googleapis.com/v1alpha/projects/dcavazos-lyra/maps/21ceffe9ad63217a5381c75798525101-642f41171aa73bcfba4b059378cfef0c/tiles/{z}/{x}/{y}&quot;,\n",
              "                {&quot;attribution&quot;: &quot;Map Data \\u0026copy; \\u003ca href=\\&quot;https://earthengine.google.com/\\&quot;\\u003eGoogle Earth Engine\\u003c/a\\u003e&quot;, &quot;detectRetina&quot;: false, &quot;maxNativeZoom&quot;: 18, &quot;maxZoom&quot;: 18, &quot;minZoom&quot;: 0, &quot;noWrap&quot;: false, &quot;opacity&quot;: 1, &quot;subdomains&quot;: &quot;abc&quot;, &quot;tms&quot;: false}\n",
              "            ).addTo(map_65d79f06e0ffbd81f373db4f0713190c);\n",
              "        \n",
              "    \n",
              "            var tile_layer_8370533dea4281edf65e240d1ab33dd7 = L.tileLayer(\n",
              "                &quot;https://earthengine-highvolume.googleapis.com/v1alpha/projects/dcavazos-lyra/maps/ceea2763e25a6f7fa61db0f3a740f810-332c8be7637f0c827fb1d04dd08f6c64/tiles/{z}/{x}/{y}&quot;,\n",
              "                {&quot;attribution&quot;: &quot;Map Data \\u0026copy; \\u003ca href=\\&quot;https://earthengine.google.com/\\&quot;\\u003eGoogle Earth Engine\\u003c/a\\u003e&quot;, &quot;detectRetina&quot;: false, &quot;maxNativeZoom&quot;: 18, &quot;maxZoom&quot;: 18, &quot;minZoom&quot;: 0, &quot;noWrap&quot;: false, &quot;opacity&quot;: 1, &quot;subdomains&quot;: &quot;abc&quot;, &quot;tms&quot;: false}\n",
              "            ).addTo(map_65d79f06e0ffbd81f373db4f0713190c);\n",
              "        \n",
              "    \n",
              "            var tile_layer_741fc49bc8a06478a67d7bfdcc601842 = L.tileLayer(\n",
              "                &quot;https://earthengine-highvolume.googleapis.com/v1alpha/projects/dcavazos-lyra/maps/5e1ee511bbc9c8fca019415400d92b38-b3aeeb64f0ceb611027612aebadb9b2b/tiles/{z}/{x}/{y}&quot;,\n",
              "                {&quot;attribution&quot;: &quot;Map Data \\u0026copy; \\u003ca href=\\&quot;https://earthengine.google.com/\\&quot;\\u003eGoogle Earth Engine\\u003c/a\\u003e&quot;, &quot;detectRetina&quot;: false, &quot;maxNativeZoom&quot;: 18, &quot;maxZoom&quot;: 18, &quot;minZoom&quot;: 0, &quot;noWrap&quot;: false, &quot;opacity&quot;: 1, &quot;subdomains&quot;: &quot;abc&quot;, &quot;tms&quot;: false}\n",
              "            ).addTo(map_65d79f06e0ffbd81f373db4f0713190c);\n",
              "        \n",
              "    \n",
              "            var tile_layer_546f0427f8f94337082a28220aacc20d = L.tileLayer(\n",
              "                &quot;https://earthengine-highvolume.googleapis.com/v1alpha/projects/dcavazos-lyra/maps/77ad2a3d492a8c654f02a42ea9baaa58-111b273bc88b839bd2fe372347b95d6c/tiles/{z}/{x}/{y}&quot;,\n",
              "                {&quot;attribution&quot;: &quot;Map Data \\u0026copy; \\u003ca href=\\&quot;https://earthengine.google.com/\\&quot;\\u003eGoogle Earth Engine\\u003c/a\\u003e&quot;, &quot;detectRetina&quot;: false, &quot;maxNativeZoom&quot;: 18, &quot;maxZoom&quot;: 18, &quot;minZoom&quot;: 0, &quot;noWrap&quot;: false, &quot;opacity&quot;: 1, &quot;subdomains&quot;: &quot;abc&quot;, &quot;tms&quot;: false}\n",
              "            ).addTo(map_65d79f06e0ffbd81f373db4f0713190c);\n",
              "        \n",
              "    \n",
              "            var tile_layer_32e09cf0db44a56b69266b14910e4c63 = L.tileLayer(\n",
              "                &quot;https://earthengine-highvolume.googleapis.com/v1alpha/projects/dcavazos-lyra/maps/9a3b56f3705310eafa6a9516669b2cb2-15de04ba1ba317d2b2704c971e116118/tiles/{z}/{x}/{y}&quot;,\n",
              "                {&quot;attribution&quot;: &quot;Map Data \\u0026copy; \\u003ca href=\\&quot;https://earthengine.google.com/\\&quot;\\u003eGoogle Earth Engine\\u003c/a\\u003e&quot;, &quot;detectRetina&quot;: false, &quot;maxNativeZoom&quot;: 18, &quot;maxZoom&quot;: 18, &quot;minZoom&quot;: 0, &quot;noWrap&quot;: false, &quot;opacity&quot;: 1, &quot;subdomains&quot;: &quot;abc&quot;, &quot;tms&quot;: false}\n",
              "            ).addTo(map_65d79f06e0ffbd81f373db4f0713190c);\n",
              "        \n",
              "    \n",
              "            var layer_control_647e1ac65621f03419b9a0f4503660b8 = {\n",
              "                base_layers : {\n",
              "                    &quot;openstreetmap&quot; : tile_layer_9e04f750ed74cf0c34c36cbe169a8919,\n",
              "                },\n",
              "                overlays :  {\n",
              "                    &quot;Elevation&quot; : tile_layer_da92f22a78f3655b7f7b4c8126529d7e,\n",
              "                    &quot;[2019-09-02 14:00:00] Cloud and moisture&quot; : tile_layer_dee878f826739c2e69377f60a7fb9403,\n",
              "                    &quot;[2019-09-02 14:00:00] Precipitation&quot; : tile_layer_255b16bc0a0094a55e74048088cfdfef,\n",
              "                    &quot;[2019-09-02 16:00:00] Cloud and moisture&quot; : tile_layer_8370533dea4281edf65e240d1ab33dd7,\n",
              "                    &quot;[2019-09-02 16:00:00] Precipitation&quot; : tile_layer_741fc49bc8a06478a67d7bfdcc601842,\n",
              "                    &quot;[2019-09-02 18:00:00] Cloud and moisture&quot; : tile_layer_546f0427f8f94337082a28220aacc20d,\n",
              "                    &quot;[2019-09-02 18:00:00] Precipitation&quot; : tile_layer_32e09cf0db44a56b69266b14910e4c63,\n",
              "                },\n",
              "            };\n",
              "            L.control.layers(\n",
              "                layer_control_647e1ac65621f03419b9a0f4503660b8.base_layers,\n",
              "                layer_control_647e1ac65621f03419b9a0f4503660b8.overlays,\n",
              "                {&quot;autoZIndex&quot;: true, &quot;collapsed&quot;: true, &quot;position&quot;: &quot;topright&quot;}\n",
              "            ).addTo(map_65d79f06e0ffbd81f373db4f0713190c);\n",
              "        \n",
              "&lt;/script&gt;\n",
              "&lt;/html&gt;\" style=\"position:absolute;width:100%;height:100%;left:0;top:0;border:none !important;\" allowfullscreen webkitallowfullscreen mozallowfullscreen></iframe></div></div>"
            ]
          },
          "metadata": {},
          "execution_count": 7
        }
      ],
      "source": [
        "from datetime import datetime, timedelta\n",
        "import folium\n",
        "from serving.data import get_inputs_image, INPUT_HOUR_DELTAS\n",
        "\n",
        "# Get the Earth Engine image.\n",
        "date = datetime(2019, 9, 2, 18)\n",
        "image = get_inputs_image(date)\n",
        "\n",
        "# Show map.\n",
        "map = folium.Map([25, -90], zoom_start=5)\n",
        "elevation_layer().add_to(map)\n",
        "for i, h in enumerate(INPUT_HOUR_DELTAS):\n",
        "  label = str(date + timedelta(hours=h))\n",
        "  goes16_layer(image, label, i).add_to(map)\n",
        "  gpm_layer(image, label, i).add_to(map)\n",
        "folium.LayerControl().add_to(map)\n",
        "map"
      ],
      "id": "5SbSErwSUCtZ"
    },
    {
      "cell_type": "markdown",
      "source": [
        "> 💡 You can hide and show layers from the top-right corner widget to see all the inputs for the model."
      ],
      "metadata": {
        "id": "IMOd2hVAp2h9"
      },
      "id": "IMOd2hVAp2h9"
    },
    {
      "cell_type": "markdown",
      "metadata": {
        "id": "kRZlrlaXYRA0"
      },
      "source": [
        "## ✅ Labels\n",
        "\n",
        "We chose to predict precipitation for 2 and 6 hours in the future, but it could be anything as long as we have the right _labels_.\n",
        "\n",
        "In the [`serving/data.py`](serving/data.py) file, we defined a function called `get_labels_image` which returns us an `ee.Image` with bands for each time step of precipitation."
      ],
      "id": "kRZlrlaXYRA0"
    },
    {
      "cell_type": "code",
      "execution_count": 8,
      "metadata": {
        "colab": {
          "base_uri": "https://localhost:8080/",
          "height": 670
        },
        "id": "ppYBbnWyWGCR",
        "outputId": "e2908d85-f696-4cdb-b906-9145e7b6b353"
      },
      "outputs": [
        {
          "output_type": "execute_result",
          "data": {
            "text/plain": [
              "<folium.folium.Map at 0x7fd36663d750>"
            ],
            "text/html": [
              "<div style=\"width:100%;\"><div style=\"position:relative;width:100%;height:0;padding-bottom:60%;\"><span style=\"color:#565656\">Make this Notebook Trusted to load map: File -> Trust Notebook</span><iframe srcdoc=\"&lt;!DOCTYPE html&gt;\n",
              "&lt;html&gt;\n",
              "&lt;head&gt;\n",
              "    \n",
              "    &lt;meta http-equiv=&quot;content-type&quot; content=&quot;text/html; charset=UTF-8&quot; /&gt;\n",
              "    \n",
              "        &lt;script&gt;\n",
              "            L_NO_TOUCH = false;\n",
              "            L_DISABLE_3D = false;\n",
              "        &lt;/script&gt;\n",
              "    \n",
              "    &lt;style&gt;html, body {width: 100%;height: 100%;margin: 0;padding: 0;}&lt;/style&gt;\n",
              "    &lt;style&gt;#map {position:absolute;top:0;bottom:0;right:0;left:0;}&lt;/style&gt;\n",
              "    &lt;script src=&quot;https://cdn.jsdelivr.net/npm/leaflet@1.6.0/dist/leaflet.js&quot;&gt;&lt;/script&gt;\n",
              "    &lt;script src=&quot;https://code.jquery.com/jquery-1.12.4.min.js&quot;&gt;&lt;/script&gt;\n",
              "    &lt;script src=&quot;https://maxcdn.bootstrapcdn.com/bootstrap/3.2.0/js/bootstrap.min.js&quot;&gt;&lt;/script&gt;\n",
              "    &lt;script src=&quot;https://cdnjs.cloudflare.com/ajax/libs/Leaflet.awesome-markers/2.0.2/leaflet.awesome-markers.js&quot;&gt;&lt;/script&gt;\n",
              "    &lt;link rel=&quot;stylesheet&quot; href=&quot;https://cdn.jsdelivr.net/npm/leaflet@1.6.0/dist/leaflet.css&quot;/&gt;\n",
              "    &lt;link rel=&quot;stylesheet&quot; href=&quot;https://maxcdn.bootstrapcdn.com/bootstrap/3.2.0/css/bootstrap.min.css&quot;/&gt;\n",
              "    &lt;link rel=&quot;stylesheet&quot; href=&quot;https://maxcdn.bootstrapcdn.com/bootstrap/3.2.0/css/bootstrap-theme.min.css&quot;/&gt;\n",
              "    &lt;link rel=&quot;stylesheet&quot; href=&quot;https://maxcdn.bootstrapcdn.com/font-awesome/4.6.3/css/font-awesome.min.css&quot;/&gt;\n",
              "    &lt;link rel=&quot;stylesheet&quot; href=&quot;https://cdnjs.cloudflare.com/ajax/libs/Leaflet.awesome-markers/2.0.2/leaflet.awesome-markers.css&quot;/&gt;\n",
              "    &lt;link rel=&quot;stylesheet&quot; href=&quot;https://cdn.jsdelivr.net/gh/python-visualization/folium/folium/templates/leaflet.awesome.rotate.min.css&quot;/&gt;\n",
              "    \n",
              "            &lt;meta name=&quot;viewport&quot; content=&quot;width=device-width,\n",
              "                initial-scale=1.0, maximum-scale=1.0, user-scalable=no&quot; /&gt;\n",
              "            &lt;style&gt;\n",
              "                #map_93b3926cf5a825d0feb8f97873feeea2 {\n",
              "                    position: relative;\n",
              "                    width: 100.0%;\n",
              "                    height: 100.0%;\n",
              "                    left: 0.0%;\n",
              "                    top: 0.0%;\n",
              "                }\n",
              "            &lt;/style&gt;\n",
              "        \n",
              "&lt;/head&gt;\n",
              "&lt;body&gt;\n",
              "    \n",
              "    \n",
              "            &lt;div class=&quot;folium-map&quot; id=&quot;map_93b3926cf5a825d0feb8f97873feeea2&quot; &gt;&lt;/div&gt;\n",
              "        \n",
              "&lt;/body&gt;\n",
              "&lt;script&gt;\n",
              "    \n",
              "    \n",
              "            var map_93b3926cf5a825d0feb8f97873feeea2 = L.map(\n",
              "                &quot;map_93b3926cf5a825d0feb8f97873feeea2&quot;,\n",
              "                {\n",
              "                    center: [25.0, -90.0],\n",
              "                    crs: L.CRS.EPSG3857,\n",
              "                    zoom: 5,\n",
              "                    zoomControl: true,\n",
              "                    preferCanvas: false,\n",
              "                }\n",
              "            );\n",
              "\n",
              "            \n",
              "\n",
              "        \n",
              "    \n",
              "            var tile_layer_dfb2964cbe76f00a5cdf3113ebb9816c = L.tileLayer(\n",
              "                &quot;https://{s}.tile.openstreetmap.org/{z}/{x}/{y}.png&quot;,\n",
              "                {&quot;attribution&quot;: &quot;Data by \\u0026copy; \\u003ca href=\\&quot;http://openstreetmap.org\\&quot;\\u003eOpenStreetMap\\u003c/a\\u003e, under \\u003ca href=\\&quot;http://www.openstreetmap.org/copyright\\&quot;\\u003eODbL\\u003c/a\\u003e.&quot;, &quot;detectRetina&quot;: false, &quot;maxNativeZoom&quot;: 18, &quot;maxZoom&quot;: 18, &quot;minZoom&quot;: 0, &quot;noWrap&quot;: false, &quot;opacity&quot;: 1, &quot;subdomains&quot;: &quot;abc&quot;, &quot;tms&quot;: false}\n",
              "            ).addTo(map_93b3926cf5a825d0feb8f97873feeea2);\n",
              "        \n",
              "    \n",
              "            var tile_layer_6fc9033a7266e757bc7f7ac1e8e891a5 = L.tileLayer(\n",
              "                &quot;https://earthengine-highvolume.googleapis.com/v1alpha/projects/dcavazos-lyra/maps/44d26776cb95c9e18f948a8b2beefdb6-636fb636dd21ad9ed01486e5bbdf61ce/tiles/{z}/{x}/{y}&quot;,\n",
              "                {&quot;attribution&quot;: &quot;Map Data \\u0026copy; \\u003ca href=\\&quot;https://earthengine.google.com/\\&quot;\\u003eGoogle Earth Engine\\u003c/a\\u003e&quot;, &quot;detectRetina&quot;: false, &quot;maxNativeZoom&quot;: 18, &quot;maxZoom&quot;: 18, &quot;minZoom&quot;: 0, &quot;noWrap&quot;: false, &quot;opacity&quot;: 1, &quot;subdomains&quot;: &quot;abc&quot;, &quot;tms&quot;: false}\n",
              "            ).addTo(map_93b3926cf5a825d0feb8f97873feeea2);\n",
              "        \n",
              "    \n",
              "            var tile_layer_8fdbb1026725d3de5d25900021bbbcd6 = L.tileLayer(\n",
              "                &quot;https://earthengine-highvolume.googleapis.com/v1alpha/projects/dcavazos-lyra/maps/531c2aba8603f8a3bd483024952710e8-8d10cfd1ef3825a4fae05d3ee4efec03/tiles/{z}/{x}/{y}&quot;,\n",
              "                {&quot;attribution&quot;: &quot;Map Data \\u0026copy; \\u003ca href=\\&quot;https://earthengine.google.com/\\&quot;\\u003eGoogle Earth Engine\\u003c/a\\u003e&quot;, &quot;detectRetina&quot;: false, &quot;maxNativeZoom&quot;: 18, &quot;maxZoom&quot;: 18, &quot;minZoom&quot;: 0, &quot;noWrap&quot;: false, &quot;opacity&quot;: 1, &quot;subdomains&quot;: &quot;abc&quot;, &quot;tms&quot;: false}\n",
              "            ).addTo(map_93b3926cf5a825d0feb8f97873feeea2);\n",
              "        \n",
              "    \n",
              "            var layer_control_bb9ccec30f43201afbdabcbfb837c6c7 = {\n",
              "                base_layers : {\n",
              "                    &quot;openstreetmap&quot; : tile_layer_dfb2964cbe76f00a5cdf3113ebb9816c,\n",
              "                },\n",
              "                overlays :  {\n",
              "                    &quot;[2019-09-03 20:00:00] Precipitation&quot; : tile_layer_6fc9033a7266e757bc7f7ac1e8e891a5,\n",
              "                    &quot;[2019-09-04 00:00:00] Precipitation&quot; : tile_layer_8fdbb1026725d3de5d25900021bbbcd6,\n",
              "                },\n",
              "            };\n",
              "            L.control.layers(\n",
              "                layer_control_bb9ccec30f43201afbdabcbfb837c6c7.base_layers,\n",
              "                layer_control_bb9ccec30f43201afbdabcbfb837c6c7.overlays,\n",
              "                {&quot;autoZIndex&quot;: true, &quot;collapsed&quot;: true, &quot;position&quot;: &quot;topright&quot;}\n",
              "            ).addTo(map_93b3926cf5a825d0feb8f97873feeea2);\n",
              "        \n",
              "&lt;/script&gt;\n",
              "&lt;/html&gt;\" style=\"position:absolute;width:100%;height:100%;left:0;top:0;border:none !important;\" allowfullscreen webkitallowfullscreen mozallowfullscreen></iframe></div></div>"
            ]
          },
          "metadata": {},
          "execution_count": 8
        }
      ],
      "source": [
        "from datetime import datetime, timedelta\n",
        "import folium\n",
        "from serving.data import get_labels_image, OUTPUT_HOUR_DELTAS\n",
        "\n",
        "# Get the Earth Engine image.\n",
        "date = datetime(2019, 9, 3, 18)\n",
        "image = get_labels_image(date)\n",
        "\n",
        "# Show map.\n",
        "map = folium.Map([25, -90], zoom_start=5)\n",
        "for i, h in enumerate(OUTPUT_HOUR_DELTAS):\n",
        "  label = str(date + timedelta(hours=h))\n",
        "  gpm_layer(image, label, i).add_to(map)\n",
        "folium.LayerControl().add_to(map)\n",
        "map"
      ],
      "id": "ppYBbnWyWGCR"
    },
    {
      "cell_type": "markdown",
      "metadata": {
        "id": "Ud_SLexIZQh0"
      },
      "source": [
        "# 🗄 Create the dataset\n",
        "\n",
        "Now that we know the _inputs_ and _outputs_ for the model, we can create a _dataset_ to train the model.\n",
        "A dataset consists of _training examples_, which are `(inputs, labels)` pairs, so for each input data, we have to give it the correct output values.\n",
        "\n",
        "We want a _balanced_ dataset consisting on a representative, diverse, and unbiased selection of data points.\n",
        "This way the model can learn from many different examples covering different seasons, times of day, regions, ecosystems, etc.\n",
        "\n",
        "Let's take a closer look at how we select our training examples to create the dataset."
      ],
      "id": "Ud_SLexIZQh0"
    },
    {
      "cell_type": "markdown",
      "metadata": {
        "id": "hWq2BMYMcAEj"
      },
      "source": [
        "## 📌 Sample points\n",
        "\n",
        "First, we want to get balanced points for a given time.\n",
        "We use [`ee.Image.stratifiedSample`](https://developers.google.com/earth-engine/apidocs/ee-image-stratifiedsample) to select around the same number of points for each amount of precipitation.\n",
        "\n",
        "Since the precipitation is a continuous value, we first need to convert it to a classification.\n",
        "By looking at different images, we noticed that most values fall within 0 and 30.\n",
        "So we simply clamped the values into that range, divided by the maximum value, multiplied by the number of bins, and converted them into integers.\n",
        "This creates discrete bins for each value in the range, so we can do stratified sample on it.\n",
        "\n",
        "In [`create_dataset.py`](create_dataset.py) we defined a function called `sample_points` that gives us a balanced selction of (longitude, latitude) coordinates for a given date."
      ],
      "id": "hWq2BMYMcAEj"
    },
    {
      "cell_type": "code",
      "execution_count": 6,
      "metadata": {
        "colab": {
          "base_uri": "https://localhost:8080/"
        },
        "id": "UXtjqla1dBuX",
        "outputId": "5ca46fc6-6def-4cbc-8613-ac01b988a97d"
      },
      "outputs": [
        {
          "output_type": "stream",
          "name": "stdout",
          "text": [
            "2019-09-02 18:00:00 -- [-17.8315583897725, 26.90454275937967]\n",
            "2019-09-02 18:00:00 -- [-51.06922390219479, -26.54521664573186]\n",
            "2019-09-02 18:00:00 -- [-39.21146215181711, 10.375541531580472]\n",
            "2019-09-02 18:00:00 -- [-29.95881472538604, 13.250150440762942]\n",
            "2019-09-02 18:00:00 -- [-91.85273780122107, 16.484085463593217]\n",
            "2019-09-02 18:00:00 -- [-43.523375515590814, -26.275722060496005]\n",
            "2019-09-02 18:00:00 -- [-66.34058373222666, 1.122894105149402]\n",
            "2019-09-02 18:00:00 -- [-76.5813779711892, 26.90454275937967]\n",
            "2019-09-02 18:00:00 -- [-95.62566199452306, -30.587635424269706]\n",
            "2019-09-02 18:00:00 -- [-36.067358657398785, -31.12662459474142]\n"
          ]
        }
      ],
      "source": [
        "from datetime import datetime\n",
        "from create_dataset import sample_points\n",
        "\n",
        "date = datetime(2019, 9, 2, 18)\n",
        "for date, point in sample_points(date, num_bins=10):\n",
        "  print(f\"{date} -- {point}\")"
      ],
      "id": "UXtjqla1dBuX"
    },
    {
      "cell_type": "markdown",
      "source": [
        "> 💡 We only bucketize the precipitation to select a balanced dataset, but we use the original continuous value for the labels."
      ],
      "metadata": {
        "id": "SEEz_F5yxI_-"
      },
      "id": "SEEz_F5yxI_-"
    },
    {
      "cell_type": "markdown",
      "metadata": {
        "id": "W5mr765Ahsd5"
      },
      "source": [
        "## 📑 Get training examples\n",
        "\n",
        "The next step is to get our training examples data.\n",
        "Sometimes there are transient errors like sending too many requests, so we used [`Retry`](https://googleapis.dev/python/google-api-core/latest/retry.html) to handle those cases.\n",
        "\n",
        "We predefined that all our training examples would be 128 pixels width by 128 pixels height, but we could choose any size as long as the model accepts it.\n",
        "We also want all the training examples to be the same size so we can batch them.\n",
        "\n",
        "In [`create_dataset.py`](create_dataset.py) we defined `get_training_example`, which fetches an `(inputs, labels)` pair for the given date and (longitude, latitude) coordinate."
      ],
      "id": "W5mr765Ahsd5"
    },
    {
      "cell_type": "code",
      "source": [
        "from datetime import datetime\n",
        "from create_dataset import get_training_example\n",
        "\n",
        "date = datetime(2019, 9, 2, 18)\n",
        "point = [-110.312, 30.972]  # [longitude, latitude]\n",
        "(inputs, labels) = get_training_example(date, point)\n",
        "\n",
        "print(f\"inputs : {inputs.dtype} {inputs.shape}\")\n",
        "print(f\"labels : {labels.dtype} {labels.shape}\")"
      ],
      "metadata": {
        "colab": {
          "base_uri": "https://localhost:8080/"
        },
        "id": "A2zgm2cgze3O",
        "outputId": "33d43c49-9fa0-41d1-9dea-c2ddb6b32903"
      },
      "id": "A2zgm2cgze3O",
      "execution_count": 7,
      "outputs": [
        {
          "output_type": "stream",
          "name": "stdout",
          "text": [
            "inputs : float32 (128, 128, 52)\n",
            "labels : float32 (128, 128, 2)\n"
          ]
        }
      ]
    },
    {
      "cell_type": "markdown",
      "metadata": {
        "id": "ihD1Y3rUhavO"
      },
      "source": [
        "## 📚 Write NumPy files\n",
        "\n",
        "Finally, we need to write the training examples into files.\n",
        "We chose [compressed NumPy files](https://numpy.org/doc/stable/reference/generated/numpy.savez_compressed.html) for simplicity.\n",
        "We used Apache Beam [`FileSystems`](https://beam.apache.org/releases/pydoc/current/apache_beam.io.filesystems.html) to be able to write into any file system that Beam supports, including Cloud Storage."
      ],
      "id": "ihD1Y3rUhavO"
    },
    {
      "cell_type": "code",
      "source": [
        "from create_dataset import write_npz\n",
        "\n",
        "write_npz(inputs, labels, 'data-small/')"
      ],
      "metadata": {
        "colab": {
          "base_uri": "https://localhost:8080/",
          "height": 35
        },
        "id": "sOs0xl4MBCqz",
        "outputId": "8a2b2114-7bc0-4e1b-e83c-c9ad4510d87e"
      },
      "id": "sOs0xl4MBCqz",
      "execution_count": 8,
      "outputs": [
        {
          "output_type": "execute_result",
          "data": {
            "text/plain": [
              "'data-small/f78906df-ae05-4841-99b9-6039414e963f.npz'"
            ],
            "application/vnd.google.colaboratory.intrinsic+json": {
              "type": "string"
            }
          },
          "metadata": {},
          "execution_count": 8
        }
      ]
    },
    {
      "cell_type": "code",
      "source": [
        "!ls -lh data-small"
      ],
      "metadata": {
        "colab": {
          "base_uri": "https://localhost:8080/"
        },
        "id": "eI1wfoqeBba_",
        "outputId": "47d2209a-1b65-4a13-c4b6-4b8afc33fc74"
      },
      "id": "eI1wfoqeBba_",
      "execution_count": 9,
      "outputs": [
        {
          "output_type": "stream",
          "name": "stdout",
          "text": [
            "total 1.4M\n",
            "-rw-r--r-- 1 root root 1.4M Nov 23 23:25 f78906df-ae05-4841-99b9-6039414e963f.npz\n"
          ]
        }
      ]
    },
    {
      "cell_type": "markdown",
      "source": [
        "## 🗃 Create the dataset\n",
        "\n",
        "Finally, we create an\n",
        "[Apache Beam](https://beam.apache.org/) pipeline, which allows us to create parallel processing pipelines.\n",
        "\n",
        "Let's see how to create a small dataset!"
      ],
      "metadata": {
        "id": "G0-AAvhqB5K_"
      },
      "id": "G0-AAvhqB5K_"
    },
    {
      "cell_type": "code",
      "source": [
        "import apache_beam as beam\n",
        "from apache_beam.options.pipeline_options import PipelineOptions\n",
        "\n",
        "dates = [datetime(2019, 9, 2, 18)]\n",
        "beam_options = PipelineOptions([], direct_num_workers=20)\n",
        "with beam.Pipeline(options=beam_options) as pipeline:\n",
        "    (\n",
        "        pipeline\n",
        "        | \"📆 Create dates\" >> beam.Create(dates)\n",
        "        | \"📌 Sample points\" >> beam.FlatMap(sample_points)\n",
        "        | \"🃏 Reshuffle\" >> beam.Reshuffle()\n",
        "        | \"📑 Get example\" >> beam.MapTuple(get_training_example)\n",
        "        | \"📚 Write NPZ files\" >> beam.MapTuple(write_npz, data_path=\"data\")\n",
        "    )"
      ],
      "metadata": {
        "colab": {
          "base_uri": "https://localhost:8080/",
          "height": 72
        },
        "id": "RRl4TsFQB4ZM",
        "outputId": "a9ff094b-f17d-4a7a-a7ab-4501dd356101"
      },
      "id": "RRl4TsFQB4ZM",
      "execution_count": 10,
      "outputs": [
        {
          "output_type": "stream",
          "name": "stderr",
          "text": [
            "WARNING:apache_beam.runners.interactive.interactive_environment:Dependencies required for Interactive Beam PCollection visualization are not available, please use: `pip install apache-beam[interactive]` to install necessary dependencies to enable all data visualization features.\n"
          ]
        },
        {
          "output_type": "display_data",
          "data": {
            "application/javascript": [
              "\n",
              "        if (typeof window.interactive_beam_jquery == 'undefined') {\n",
              "          var jqueryScript = document.createElement('script');\n",
              "          jqueryScript.src = 'https://code.jquery.com/jquery-3.4.1.slim.min.js';\n",
              "          jqueryScript.type = 'text/javascript';\n",
              "          jqueryScript.onload = function() {\n",
              "            var datatableScript = document.createElement('script');\n",
              "            datatableScript.src = 'https://cdn.datatables.net/1.10.20/js/jquery.dataTables.min.js';\n",
              "            datatableScript.type = 'text/javascript';\n",
              "            datatableScript.onload = function() {\n",
              "              window.interactive_beam_jquery = jQuery.noConflict(true);\n",
              "              window.interactive_beam_jquery(document).ready(function($){\n",
              "                \n",
              "              });\n",
              "            }\n",
              "            document.head.appendChild(datatableScript);\n",
              "          };\n",
              "          document.head.appendChild(jqueryScript);\n",
              "        } else {\n",
              "          window.interactive_beam_jquery(document).ready(function($){\n",
              "            \n",
              "          });\n",
              "        }"
            ]
          },
          "metadata": {}
        },
        {
          "output_type": "stream",
          "name": "stderr",
          "text": [
            "WARNING:apache_beam.runners.portability.fn_api_runner.fn_runner:If direct_num_workers is not equal to 1, direct_running_mode should be `multi_processing` or `multi_threading` instead of `in_memory` in order for it to have the desired worker parallelism effect. direct_num_workers: 20 ; running_mode: in_memory\n"
          ]
        }
      ]
    },
    {
      "cell_type": "code",
      "source": [
        "# Count the number of files we created.\n",
        "!ls data/ | wc -l"
      ],
      "metadata": {
        "colab": {
          "base_uri": "https://localhost:8080/"
        },
        "id": "F43OAIlrDosG",
        "outputId": "0d818a2f-6f5e-4e29-fb82-b91710fc6572"
      },
      "id": "F43OAIlrDosG",
      "execution_count": 12,
      "outputs": [
        {
          "output_type": "stream",
          "name": "stdout",
          "text": [
            "10\n"
          ]
        }
      ]
    },
    {
      "cell_type": "markdown",
      "source": [
        "## ☁️ Run in Dataflow _(optional)_\n",
        "\n",
        "Local testing works great for creating small datasets and making sure everything works, but to run on a large dataset at scale it's best to use a distributed runner like\n",
        "[Dataflow](https://cloud.google.com/dataflow).\n",
        "\n",
        "We can run [`create_dataset.py`](create_dataset.py) as a script and run it in [Dataflow](https://cloud.google.com/dataflow)."
      ],
      "metadata": {
        "id": "YWAI6AetcxRH"
      },
      "id": "YWAI6AetcxRH"
    },
    {
      "cell_type": "code",
      "source": [
        "!python create_dataset.py \\\n",
        "  --data-path=\"gs://{bucket}/weather/dataset\" \\\n",
        "  --runner=\"DataflowRunner\" \\\n",
        "  --project=\"{project}\" \\\n",
        "  --region=\"{location}\" \\\n",
        "  --temp_location=\"gs://{bucket}/weather/temp\""
      ],
      "metadata": {
        "id": "dMkZE6yedIxx"
      },
      "id": "dMkZE6yedIxx",
      "execution_count": null,
      "outputs": []
    },
    {
      "cell_type": "markdown",
      "source": [
        "> 💡 Look at your Dataflow jobs: https://console.cloud.google.com/dataflow/jobs"
      ],
      "metadata": {
        "id": "SUXVI-EAew02"
      },
      "id": "SUXVI-EAew02"
    },
    {
      "cell_type": "markdown",
      "metadata": {
        "id": "02b1b9dd"
      },
      "source": [
        "# 🧠 Train the model\n",
        "\n",
        "Now that we have our dataset, we're ready to train the model."
      ],
      "id": "02b1b9dd"
    },
    {
      "cell_type": "markdown",
      "source": [
        "## 📖 Read the datasets\n",
        "\n",
        "Reading a PyTorch dataset requires a subclass of `torch.utils.data.Dataset`.\n",
        "We need to define [`__len__`](https://docs.python.org/3/reference/datamodel.html#object.__len__) and [`__getitem__`](https://docs.python.org/3/reference/datamodel.html#object.__getitem__) to allow random access to the training examples.\n",
        "\n",
        "Another thing to note is that our data is in a channels-last format, like `(width, height, channels)`.\n",
        "But PyTorch expects channels-first format in the convolutional layers, like `(channels, width, height)`, so our dataset handles doing the conversion.\n",
        "\n",
        "In [`trainer/model.py`](trainer/model.py) we defined the `WeatherDataset` class to read our data files."
      ],
      "metadata": {
        "id": "PY5H3OMjfVAR"
      },
      "id": "PY5H3OMjfVAR"
    },
    {
      "cell_type": "code",
      "source": [
        "from trainer.model import WeatherDataset\n",
        "\n",
        "dataset = WeatherDataset(data_path=\"data/\")\n",
        "(inputs, labels) = dataset[0]\n",
        "\n",
        "print(f\"The dataset contains {len(dataset)} examples.\")\n",
        "print(f\"Inputs shape: {inputs.shape}\")\n",
        "print(f\"Labels shape: {labels.shape}\")"
      ],
      "metadata": {
        "colab": {
          "base_uri": "https://localhost:8080/"
        },
        "id": "gwKwP8pZiKsQ",
        "outputId": "62b67dac-f46c-4bcf-c29b-e12436b16e9e"
      },
      "id": "gwKwP8pZiKsQ",
      "execution_count": 19,
      "outputs": [
        {
          "output_type": "stream",
          "name": "stdout",
          "text": [
            "The dataset contains 10 examples.\n",
            "Inputs shape: torch.Size([52, 128, 128])\n",
            "Labels shape: torch.Size([2, 128, 128])\n"
          ]
        }
      ]
    },
    {
      "cell_type": "markdown",
      "source": [
        "Then we need to split the dataset into training and testing (validation) datasets.\n",
        "We use the [`torch.utils.data.random_split`](https://pytorch.org/docs/stable/data.html#torch.utils.data.random_split) function to do this.\n",
        "In [`trainer/model.py`](trainer/model.py) we defined `train_test_split`."
      ],
      "metadata": {
        "id": "RYZ-sVJps4Ah"
      },
      "id": "RYZ-sVJps4Ah"
    },
    {
      "cell_type": "code",
      "source": [
        "from trainer.model import train_test_split\n",
        "\n",
        "(train_data, test_data) = train_test_split(dataset, ratio=0.9)\n",
        "print(f\"Train dataset contains {len(train_data)} examples\")\n",
        "print(f\"Test dataset contains {len(test_data)} examples\")"
      ],
      "metadata": {
        "colab": {
          "base_uri": "https://localhost:8080/"
        },
        "id": "eafOkfZdtom3",
        "outputId": "eb8d437c-d063-46dd-f025-53ba035cc3a7"
      },
      "id": "eafOkfZdtom3",
      "execution_count": 20,
      "outputs": [
        {
          "output_type": "stream",
          "name": "stdout",
          "text": [
            "Train dataset contains 9 examples\n",
            "Test dataset contains 1 examples\n"
          ]
        }
      ]
    },
    {
      "cell_type": "markdown",
      "source": [
        "> 💡 For more information on PyTorch datasets, refer to the [Datasets & Loaders](https://pytorch.org/tutorials/beginner/basics/data_tutorial.html) guide."
      ],
      "metadata": {
        "id": "zAZCdbw1mpoB"
      },
      "id": "zAZCdbw1mpoB"
    },
    {
      "cell_type": "markdown",
      "source": [
        "## 🐣 Create the model\n",
        "\n",
        "First we define our model, which is a very simple _Fully Convolutional Network_.\n",
        "The input data can consist of potentially very large numbers, but machine learning generally prefers small numbers around -1 and 1.\n",
        "So in [`trainer/model.py`](trainer/model.py) we defined a `Normalization` layer which finds the _mean_ and _standard deviation_ from the training dataset and applies [Z-Score](https://developers.google.com/machine-learning/data-prep/transform/normalization#z-score) to normalize all the model's inputs as a first step."
      ],
      "metadata": {
        "id": "oQnLpK0OmutA"
      },
      "id": "oQnLpK0OmutA"
    },
    {
      "cell_type": "code",
      "source": [
        "from trainer.model import Normalization\n",
        "\n",
        "normalization = Normalization.adapt(train_data, axis=0)\n",
        "print(f\"mean: {normalization.mean.shape}\")\n",
        "print(f\"std:  {normalization.std.shape}\")"
      ],
      "metadata": {
        "colab": {
          "base_uri": "https://localhost:8080/"
        },
        "id": "z6FUTSAvs01U",
        "outputId": "3f301ebb-6899-4fb8-d822-01a32dce7bdc"
      },
      "id": "z6FUTSAvs01U",
      "execution_count": 21,
      "outputs": [
        {
          "output_type": "stream",
          "name": "stdout",
          "text": [
            "mean: torch.Size([52, 1, 1])\n",
            "std:  torch.Size([52, 1, 1])\n"
          ]
        }
      ]
    },
    {
      "cell_type": "markdown",
      "source": [
        "The model then passes the data through a\n",
        "[2D Convolutional layer](https://pytorch.org/docs/stable/generated/torch.nn.Conv2d.html) for downsampling, and then through a\n",
        "[2D DeConvolutional layer](https://pytorch.org/docs/stable/generated/torch.nn.ConvTranspose2d.html) for upsampling, so we end up with images the same size as the input image.\n",
        "We used a [`ReLU`](https://pytorch.org/docs/stable/generated/torch.nn.ReLU.html) activation function inbetween all hidden layers.\n",
        "\n",
        "For the last layer, we use a 2D Convolutional layer with kernel size `(1, 1)` to get one value for each output of the model.\n",
        "This acts as a [`Linear`](https://pytorch.org/docs/stable/generated/torch.nn.Linear.html) layer, but for a channels-first model.\n",
        "Since we can't have negative precipitation, we passed the model's outputs through a final `ReLU` activation function.\n",
        "\n",
        "In [`trainer/model.py`](trainer/model.py) we defined the `Model` class.\n",
        "It takes the normalization layer as an input, and defines all the layers in our model architecture.\n",
        "All the hyperparameters are constants to keep it simple, but feel free to play around with it."
      ],
      "metadata": {
        "id": "CDQIGsp24EX9"
      },
      "id": "CDQIGsp24EX9"
    },
    {
      "cell_type": "code",
      "source": [
        "import torch\n",
        "from trainer.model import Model\n",
        "\n",
        "device = \"cuda\" if torch.cuda.is_available() else \"cpu\"\n",
        "\n",
        "model = Model(normalization).to(device)\n",
        "print(model)"
      ],
      "metadata": {
        "colab": {
          "base_uri": "https://localhost:8080/"
        },
        "id": "93TRwERr6ko9",
        "outputId": "c41517ce-284b-461a-eab5-e4e9e23e47d4"
      },
      "id": "93TRwERr6ko9",
      "execution_count": 23,
      "outputs": [
        {
          "output_type": "stream",
          "name": "stdout",
          "text": [
            "Model(\n",
            "  (normalization): Normalization()\n",
            "  (layers): Sequential(\n",
            "    (0): Normalization()\n",
            "    (1): Conv2d(52, 64, kernel_size=(5, 5), stride=(1, 1))\n",
            "    (2): ReLU()\n",
            "    (3): ConvTranspose2d(64, 16, kernel_size=(5, 5), stride=(1, 1))\n",
            "    (4): ReLU()\n",
            "    (5): Conv2d(16, 2, kernel_size=(1, 1), stride=(1, 1))\n",
            "    (6): ReLU()\n",
            "  )\n",
            ")\n"
          ]
        }
      ]
    },
    {
      "cell_type": "markdown",
      "source": [
        "Next we wrap our `Dataset`s into `DataLoader`s to create batches of training examples.\n",
        "In [`trainer/model.py`](trainer/model.py) we defined the `data_loader` function which returns us a `DataLoader` for a given `Dataset`."
      ],
      "metadata": {
        "id": "Vn76R4-162-z"
      },
      "id": "Vn76R4-162-z"
    },
    {
      "cell_type": "code",
      "source": [
        "from trainer.model import data_loader\n",
        "\n",
        "batch_size = 4\n",
        "train_loader = data_loader(train_data, batch_size, shuffle=True)\n",
        "test_loader = data_loader(test_data, batch_size)\n",
        "\n",
        "for inputs_batch, labels_batch in train_loader:\n",
        "  print(f\"inputs: {tuple(inputs_batch.shape)} -- labels: {tuple(labels_batch.shape)}\")"
      ],
      "metadata": {
        "colab": {
          "base_uri": "https://localhost:8080/"
        },
        "id": "wGW0zqP962lR",
        "outputId": "1808f140-3d8e-4572-cc4f-4c686cdf0a71"
      },
      "id": "wGW0zqP962lR",
      "execution_count": 41,
      "outputs": [
        {
          "output_type": "stream",
          "name": "stdout",
          "text": [
            "inputs: (4, 52, 128, 128) -- labels: (4, 2, 128, 128)\n",
            "inputs: (4, 52, 128, 128) -- labels: (4, 2, 128, 128)\n",
            "inputs: (1, 52, 128, 128) -- labels: (1, 2, 128, 128)\n"
          ]
        }
      ]
    },
    {
      "cell_type": "markdown",
      "source": [
        "> 💡 The `batch_size` can play a large role in how fast the data is fed to the model.\n",
        "> As a rule of thumb, the larger it is the faster, but the batches should still fit into memory!\n",
        "\n",
        "Finally, we can train the model.\n",
        "We define the number of times we want to go through the training dataset as the number of _epochs_.\n",
        "\n",
        "We also need a loss function, so the model knows how good or bad their predictions were.\n",
        "We could use any regression loss function like [Mean Absolute Error (L1)](https://pytorch.org/docs/stable/generated/torch.nn.L1Loss.html) or [Mean Squared Error (L2)](https://pytorch.org/docs/stable/generated/torch.nn.MSELoss.html).\n",
        "PyTorch provides a [Smooth L1 Loss](https://pytorch.org/docs/stable/generated/torch.nn.SmoothL1Loss.html), which chooses between L1 and L2 depending on a certain criteria.\n",
        "It's less sensitive to outliers, so we'll use that.\n",
        "\n",
        "In [`trainer/model.py`](trainer/model.py) we defined the `train` and `test` functions.\n",
        "The `train` function goes through the entire training dataset, adjusts the model accordingly, and returns us the average batch loss.\n",
        "The `test` function goes through the entire testing dataset and simply returns us the average batch loss, without modifying the model in any way."
      ],
      "metadata": {
        "id": "DYhxXRXO9obH"
      },
      "id": "DYhxXRXO9obH"
    },
    {
      "cell_type": "code",
      "source": [
        "import torch\n",
        "from trainer.model import train, test\n",
        "\n",
        "epochs = 5\n",
        "loss = torch.nn.SmoothL1Loss()\n",
        "for epoch in range(epochs):\n",
        "    train_loss = train(model, train_loader, loss)\n",
        "    test_loss = test(model, test_loader, loss)\n",
        "    print(\n",
        "        f\"Epoch [{epoch + 1}/{epochs}] -- \"\n",
        "        f\"loss: {train_loss:.4f} - \"\n",
        "        f\"test_loss: {test_loss:.4f}\"\n",
        "    )"
      ],
      "metadata": {
        "colab": {
          "base_uri": "https://localhost:8080/"
        },
        "id": "P3NA68lc9m2c",
        "outputId": "826c5f6c-ced4-4af1-a3d2-19e2623d624d"
      },
      "id": "P3NA68lc9m2c",
      "execution_count": 42,
      "outputs": [
        {
          "output_type": "stream",
          "name": "stdout",
          "text": [
            "Epoch [1/5] -- loss: 0.6430 - test_loss: 0.3524\n",
            "Epoch [2/5] -- loss: 0.3018 - test_loss: 0.3602\n",
            "Epoch [3/5] -- loss: 0.3612 - test_loss: 0.3501\n",
            "Epoch [4/5] -- loss: 0.3169 - test_loss: 0.3482\n",
            "Epoch [5/5] -- loss: 0.3610 - test_loss: 0.3483\n"
          ]
        }
      ]
    },
    {
      "cell_type": "markdown",
      "source": [
        "> 💡 Both losses should go down every epoch, and they should be roughly similar.\n",
        "> If the training loss goes down, but the testing loss stays flat or goes up, it might be a sign that the model is [overfitting](https://developers.google.com/machine-learning/crash-course/generalization/peril-of-overfitting), meaning that it's memorizing the training dataset instead of learning to generalize.\n",
        "\n",
        "Now that we have a trained model, we can save it and load it anywhere else.\n",
        "The `Model` class provides `save` and `load` methods to help us do all the steps in the right order.\n",
        "We save the normalization `mean` and `std`, as well as the `state_dict` from the model.\n",
        "To learn more about saving and loading models, see the [Saving and loading models](https://pytorch.org/tutorials/beginner/saving_loading_models.html) guide."
      ],
      "metadata": {
        "id": "icxhkboQA_o5"
      },
      "id": "icxhkboQA_o5"
    },
    {
      "cell_type": "code",
      "source": [
        "model.save('model')\n",
        "\n",
        "!ls -lh model\n",
        "\n",
        "model = Model.load('model')\n",
        "print(model)"
      ],
      "metadata": {
        "colab": {
          "base_uri": "https://localhost:8080/"
        },
        "id": "xsxX2Mb-CwWk",
        "outputId": "4ecc9a9c-3a2a-4eca-e977-40085c4771b1"
      },
      "id": "xsxX2Mb-CwWk",
      "execution_count": 43,
      "outputs": [
        {
          "output_type": "stream",
          "name": "stdout",
          "text": [
            "total 436K\n",
            "-rw-r--r-- 1 root root  939 Nov 23 23:32 mean.pt\n",
            "-rw-r--r-- 1 root root 428K Nov 23 23:32 state_dict.pt\n",
            "-rw-r--r-- 1 root root  939 Nov 23 23:32 std.pt\n",
            "Model(\n",
            "  (normalization): Normalization()\n",
            "  (layers): Sequential(\n",
            "    (0): Normalization()\n",
            "    (1): Conv2d(52, 64, kernel_size=(5, 5), stride=(1, 1))\n",
            "    (2): ReLU()\n",
            "    (3): ConvTranspose2d(64, 16, kernel_size=(5, 5), stride=(1, 1))\n",
            "    (4): ReLU()\n",
            "    (5): Conv2d(16, 2, kernel_size=(1, 1), stride=(1, 1))\n",
            "    (6): ReLU()\n",
            "  )\n",
            ")\n"
          ]
        }
      ]
    },
    {
      "cell_type": "markdown",
      "source": [
        "## ☁️ Run in Vertex AI _(optional)_\n",
        "\n",
        "For this example we're training on a very small dataset for a very small number of epochs.\n",
        "This means we don't have a representative number of examples and the model hasn't seen the data enough times, so it won't perform very well.\n",
        "\n",
        "Training on larger datasets for a large number of epochs can take a lot of time, so it might be a good idea to do the training in Cloud.\n",
        "[Vertex AI](https://cloud.google.com/vertex-ai) is a great option, and even allows us to use hardware accelerators like GPUs.\n",
        "There are [PyTorch pre-built containers](https://cloud.google.com/vertex-ai/docs/training/pre-built-containers#pytorch) which include PyTorch and many common libraries, so we don't need to build a custom container."
      ],
      "metadata": {
        "id": "IO73AYtsCIQ_"
      },
      "id": "IO73AYtsCIQ_"
    },
    {
      "cell_type": "markdown",
      "source": [
        "### 🛑 TODO: dataset-3k --> dataset\n",
        "### 🛑 TODO: weather-{epochs} --> weather\n",
        "### 🛑 TODO: set epochs to a better value"
      ],
      "metadata": {
        "id": "85u-dVAOmp1u"
      },
      "id": "85u-dVAOmp1u"
    },
    {
      "cell_type": "code",
      "execution_count": null,
      "metadata": {
        "id": "Ny4x99GiS2Lm"
      },
      "outputs": [],
      "source": [
        "from google.cloud import aiplatform\n",
        "\n",
        "epochs = 10\n",
        "batch_size = 512\n",
        "\n",
        "aiplatform.init(project=project, location=location, staging_bucket=bucket)\n",
        "\n",
        "job = aiplatform.CustomTrainingJob(\n",
        "    display_name=f\"weather-{epochs}\",\n",
        "    script_path=\"trainer/model.py\",\n",
        "    container_uri=\"us-docker.pkg.dev/vertex-ai/training/pytorch-gpu.1-11:latest\",\n",
        ")\n",
        "\n",
        "job.run(\n",
        "    machine_type='n1-highmem-8',\n",
        "    accelerator_type='NVIDIA_TESLA_T4',\n",
        "    accelerator_count=1,\n",
        "    args=[\n",
        "        f\"--data-path=/gcs/{bucket}/weather/dataset\",\n",
        "        f\"--model-path=/gcs/{bucket}/weather/model-{epochs}.pt\",\n",
        "        f\"--epochs={epochs}\",\n",
        "        f\"--batch-size={batch_size}\",\n",
        "    ],\n",
        ")"
      ],
      "id": "Ny4x99GiS2Lm"
    },
    {
      "cell_type": "markdown",
      "source": [
        "https://console.cloud.google.com/vertex-ai/training/custom-jobs"
      ],
      "metadata": {
        "id": "zw_kcyw4gOLF"
      },
      "id": "zw_kcyw4gOLF"
    },
    {
      "cell_type": "markdown",
      "metadata": {
        "id": "ARvLvTyKAMEZ"
      },
      "source": [
        "# 🔮 Make predictions"
      ],
      "id": "ARvLvTyKAMEZ"
    },
    {
      "cell_type": "code",
      "execution_count": null,
      "metadata": {
        "id": "pDya92Id67q1"
      },
      "outputs": [],
      "source": [
        "# # Setup some test data to predict   \n",
        "# test_data = [\n",
        "#     ['2021-12-23T17:00:00', -118.04194946289063, 40.788608828924076, 'light rain'],    \n",
        "#     ['2021-12-15T17:30:00', -76.23759765625002, 43.16430423079589, 'medium rain'],          \n",
        "#     ['2021-12-23T17:00:00', -119.66792602539063, 36.882018532995076, 'heavy rain'],    \n",
        "#     ['2021-12-23T17:00:00', -112.0310546875, 36.27880268550452, 'just cloudy'],         \n",
        "#     ['2021-09-23T17:00:00', -119.98515625, 39.68941717505306, 'clear'],           \n",
        "#     ['2021-11-15T17:30:00', -123.72188110351563, 45.6445363447774, 'medium rain'],         \n",
        "#     ['2021-12-23T17:00:00', -115.70048828125, 35.324365287778654, 'light rain']\n",
        "# ]"
      ],
      "id": "pDya92Id67q1"
    },
    {
      "cell_type": "markdown",
      "metadata": {
        "id": "-eRdB6cw7R6L"
      },
      "source": [
        "Now we are ready to execute the model on the test data and get some predictions."
      ],
      "id": "-eRdB6cw7R6L"
    },
    {
      "cell_type": "code",
      "execution_count": 45,
      "metadata": {
        "colab": {
          "base_uri": "https://localhost:8080/"
        },
        "id": "5ytr16jFOiYT",
        "outputId": "02993134-e961-48ad-ff96-02ca095e310b"
      },
      "outputs": [
        {
          "output_type": "stream",
          "name": "stdout",
          "text": [
            "inputs : float32 (256, 256, 52)\n",
            "labels : float32 (256, 256, 2)\n"
          ]
        }
      ],
      "source": [
        "from datetime import datetime\n",
        "from serving.data import get_inputs_patch, get_labels_patch\n",
        "\n",
        "date = datetime(2019, 9, 2, 18)\n",
        "point = [-110.312, 30.972]  # [longitude, latitude]\n",
        "patch_size = 256\n",
        "\n",
        "inputs = get_inputs_patch(date, point, patch_size)\n",
        "labels = get_labels_patch(date, point, patch_size)\n",
        "\n",
        "print(f\"inputs : {inputs.dtype} {inputs.shape}\")\n",
        "print(f\"labels : {labels.dtype} {labels.shape}\")"
      ],
      "id": "5ytr16jFOiYT"
    },
    {
      "cell_type": "code",
      "execution_count": 46,
      "metadata": {
        "colab": {
          "base_uri": "https://localhost:8080/"
        },
        "id": "UJEOnOS_PU3p",
        "outputId": "9dc85a97-418a-4a4a-8973-d700ac057b96"
      },
      "outputs": [
        {
          "output_type": "execute_result",
          "data": {
            "text/plain": [
              "Model(\n",
              "  (normalization): Normalization()\n",
              "  (layers): Sequential(\n",
              "    (0): Normalization()\n",
              "    (1): Conv2d(52, 64, kernel_size=(5, 5), stride=(1, 1))\n",
              "    (2): ReLU()\n",
              "    (3): ConvTranspose2d(64, 16, kernel_size=(5, 5), stride=(1, 1))\n",
              "    (4): ReLU()\n",
              "    (5): Conv2d(16, 2, kernel_size=(1, 1), stride=(1, 1))\n",
              "    (6): ReLU()\n",
              "  )\n",
              ")"
            ]
          },
          "metadata": {},
          "execution_count": 46
        }
      ],
      "source": [
        "import torch\n",
        "from trainer.model import Model\n",
        "\n",
        "model = Model.load('model')\n",
        "model"
      ],
      "id": "UJEOnOS_PU3p"
    },
    {
      "cell_type": "code",
      "execution_count": 69,
      "metadata": {
        "colab": {
          "base_uri": "https://localhost:8080/",
          "height": 322
        },
        "id": "yViw-C4SpOks",
        "outputId": "c2089fb0-4945-4211-99d8-d9d05fed99fb"
      },
      "outputs": [
        {
          "output_type": "error",
          "ename": "NameError",
          "evalue": "ignored",
          "traceback": [
            "\u001b[0;31m---------------------------------------------------------------------------\u001b[0m",
            "\u001b[0;31mNameError\u001b[0m                                 Traceback (most recent call last)",
            "\u001b[0;32m<ipython-input-69-3d3e0d929c24>\u001b[0m in \u001b[0;36m<module>\u001b[0;34m\u001b[0m\n\u001b[1;32m     39\u001b[0m   \u001b[0mfig\u001b[0m\u001b[0;34m.\u001b[0m\u001b[0mshow\u001b[0m\u001b[0;34m(\u001b[0m\u001b[0;34m)\u001b[0m\u001b[0;34m\u001b[0m\u001b[0;34m\u001b[0m\u001b[0m\n\u001b[1;32m     40\u001b[0m \u001b[0;34m\u001b[0m\u001b[0m\n\u001b[0;32m---> 41\u001b[0;31m \u001b[0mshow_inputs\u001b[0m\u001b[0;34m(\u001b[0m\u001b[0minputs\u001b[0m\u001b[0;34m)\u001b[0m\u001b[0;34m\u001b[0m\u001b[0;34m\u001b[0m\u001b[0m\n\u001b[0m",
            "\u001b[0;32m<ipython-input-69-3d3e0d929c24>\u001b[0m in \u001b[0;36mshow_inputs\u001b[0;34m(patch)\u001b[0m\n\u001b[1;32m     36\u001b[0m   \u001b[0mfig\u001b[0m\u001b[0;34m.\u001b[0m\u001b[0madd_trace\u001b[0m\u001b[0;34m(\u001b[0m\u001b[0mgo\u001b[0m\u001b[0;34m.\u001b[0m\u001b[0mImage\u001b[0m\u001b[0;34m(\u001b[0m\u001b[0mz\u001b[0m\u001b[0;34m=\u001b[0m\u001b[0mrender_goes16\u001b[0m\u001b[0;34m(\u001b[0m\u001b[0minputs\u001b[0m\u001b[0;34m[\u001b[0m\u001b[0;34m:\u001b[0m\u001b[0;34m,\u001b[0m \u001b[0;34m:\u001b[0m\u001b[0;34m,\u001b[0m \u001b[0;36m19\u001b[0m\u001b[0;34m:\u001b[0m\u001b[0;36m35\u001b[0m\u001b[0;34m]\u001b[0m\u001b[0;34m)\u001b[0m\u001b[0;34m)\u001b[0m\u001b[0;34m,\u001b[0m \u001b[0mrow\u001b[0m\u001b[0;34m=\u001b[0m\u001b[0;36m2\u001b[0m\u001b[0;34m,\u001b[0m \u001b[0mcol\u001b[0m\u001b[0;34m=\u001b[0m\u001b[0;36m2\u001b[0m\u001b[0;34m)\u001b[0m\u001b[0;34m\u001b[0m\u001b[0;34m\u001b[0m\u001b[0m\n\u001b[1;32m     37\u001b[0m   \u001b[0mfig\u001b[0m\u001b[0;34m.\u001b[0m\u001b[0madd_trace\u001b[0m\u001b[0;34m(\u001b[0m\u001b[0mgo\u001b[0m\u001b[0;34m.\u001b[0m\u001b[0mImage\u001b[0m\u001b[0;34m(\u001b[0m\u001b[0mz\u001b[0m\u001b[0;34m=\u001b[0m\u001b[0mrender_goes16\u001b[0m\u001b[0;34m(\u001b[0m\u001b[0minputs\u001b[0m\u001b[0;34m[\u001b[0m\u001b[0;34m:\u001b[0m\u001b[0;34m,\u001b[0m \u001b[0;34m:\u001b[0m\u001b[0;34m,\u001b[0m \u001b[0;36m35\u001b[0m\u001b[0;34m:\u001b[0m\u001b[0;36m51\u001b[0m\u001b[0;34m]\u001b[0m\u001b[0;34m)\u001b[0m\u001b[0;34m)\u001b[0m\u001b[0;34m,\u001b[0m \u001b[0mrow\u001b[0m\u001b[0;34m=\u001b[0m\u001b[0;36m2\u001b[0m\u001b[0;34m,\u001b[0m \u001b[0mcol\u001b[0m\u001b[0;34m=\u001b[0m\u001b[0;36m3\u001b[0m\u001b[0;34m)\u001b[0m\u001b[0;34m\u001b[0m\u001b[0;34m\u001b[0m\u001b[0m\n\u001b[0;32m---> 38\u001b[0;31m   \u001b[0mfig\u001b[0m\u001b[0;34m.\u001b[0m\u001b[0madd_trace\u001b[0m\u001b[0;34m(\u001b[0m\u001b[0mgo\u001b[0m\u001b[0;34m.\u001b[0m\u001b[0mImage\u001b[0m\u001b[0;34m(\u001b[0m\u001b[0mz\u001b[0m\u001b[0;34m=\u001b[0m\u001b[0mrender_elevation\u001b[0m\u001b[0;34m(\u001b[0m\u001b[0minputs\u001b[0m\u001b[0;34m[\u001b[0m\u001b[0;34m:\u001b[0m\u001b[0;34m,\u001b[0m \u001b[0;34m:\u001b[0m\u001b[0;34m,\u001b[0m \u001b[0;36m51\u001b[0m\u001b[0;34m:\u001b[0m\u001b[0;36m52\u001b[0m\u001b[0;34m]\u001b[0m\u001b[0;34m)\u001b[0m\u001b[0;34m)\u001b[0m\u001b[0;34m,\u001b[0m \u001b[0mrow\u001b[0m\u001b[0;34m=\u001b[0m\u001b[0;36m2\u001b[0m\u001b[0;34m,\u001b[0m \u001b[0mcol\u001b[0m\u001b[0;34m=\u001b[0m\u001b[0;36m4\u001b[0m\u001b[0;34m)\u001b[0m\u001b[0;34m\u001b[0m\u001b[0;34m\u001b[0m\u001b[0m\n\u001b[0m\u001b[1;32m     39\u001b[0m   \u001b[0mfig\u001b[0m\u001b[0;34m.\u001b[0m\u001b[0mshow\u001b[0m\u001b[0;34m(\u001b[0m\u001b[0;34m)\u001b[0m\u001b[0;34m\u001b[0m\u001b[0;34m\u001b[0m\u001b[0m\n\u001b[1;32m     40\u001b[0m \u001b[0;34m\u001b[0m\u001b[0m\n",
            "\u001b[0;31mNameError\u001b[0m: name 'render_elevation' is not defined"
          ]
        }
      ],
      "source": [
        "from visualize import show_inputs, show_labels\n",
        "\n",
        "import numpy as np\n",
        "import plotly.graph_objects as go\n",
        "from plotly.subplots import make_subplots\n",
        "from visualize import render_goes16, render_gpm, render_rgb_images, render_classifications\n",
        "\n",
        "def render_goes16(patch: np.ndarray) -> np.ndarray:\n",
        "    red = patch[:, :, 1]  # CMI_C02\n",
        "    green = patch[:, :, 2]  # CMI_C03\n",
        "    blue = patch[:, :, 0]  # CMI_C01\n",
        "    rgb_patch = np.stack([red, green, blue], axis=-1)\n",
        "    return render_rgb_images(rgb_patch, max=3000)\n",
        "\n",
        "def render_gpm(patch: np.ndarray) -> np.ndarray:\n",
        "    palette = [\n",
        "        \"000096\",\n",
        "        \"0064ff\",\n",
        "        \"00b4ff\",\n",
        "        \"33db80\",\n",
        "        \"9beb4a\",\n",
        "        \"ffeb00\",\n",
        "        \"ffb300\",\n",
        "        \"ff6400\",\n",
        "        \"eb1e00\",\n",
        "        \"af0000\",\n",
        "    ]\n",
        "    return render_classifications(patch[:, :, 0], palette)\n",
        "\n",
        "def render_elevation(patch: np.ndarray) -> np.ndarray:\n",
        "    palette = [\n",
        "        \"000096\",\n",
        "        \"0064ff\",\n",
        "        \"00b4ff\",\n",
        "        \"33db80\",\n",
        "        \"9beb4a\",\n",
        "        \"ffeb00\",\n",
        "        \"ffb300\",\n",
        "        \"ff6400\",\n",
        "        \"eb1e00\",\n",
        "        \"af0000\",\n",
        "    ]\n",
        "    return render_rgb_images(patch, palette)\n",
        "\n",
        "def show_inputs(patch: np.ndarray) -> None:\n",
        "  fig = make_subplots(rows=2, cols=4)\n",
        "  fig.add_trace(go.Image(z=render_gpm(inputs[:, :, 0:1])), row=1, col=1)\n",
        "  fig.add_trace(go.Image(z=render_gpm(inputs[:, :, 1:2])), row=1, col=2)\n",
        "  fig.add_trace(go.Image(z=render_gpm(inputs[:, :, 2:3])), row=1, col=3)\n",
        "  fig.add_trace(go.Image(z=render_goes16(inputs[:, :, 3:19])), row=2, col=1)\n",
        "  fig.add_trace(go.Image(z=render_goes16(inputs[:, :, 19:35])), row=2, col=2)\n",
        "  fig.add_trace(go.Image(z=render_goes16(inputs[:, :, 35:51])), row=2, col=3)\n",
        "  fig.add_trace(go.Image(z=render_elevation(inputs[:, :, 51:52])), row=2, col=4)\n",
        "  fig.show()\n",
        "\n",
        "show_inputs(inputs)"
      ],
      "id": "yViw-C4SpOks"
    },
    {
      "cell_type": "code",
      "source": [
        "'''\n",
        "3 gpm (x1 bands)\n",
        "3 goes (x16 bands)\n",
        "1 elevation (x1 bands)\n",
        "'''"
      ],
      "metadata": {
        "id": "4zKCyFYs3Pxm"
      },
      "id": "4zKCyFYs3Pxm",
      "execution_count": null,
      "outputs": []
    },
    {
      "cell_type": "markdown",
      "source": [
        "## 🛑 Model.predict"
      ],
      "metadata": {
        "id": "0dqh7RE8xs2i"
      },
      "id": "0dqh7RE8xs2i"
    },
    {
      "cell_type": "code",
      "execution_count": null,
      "metadata": {
        "id": "d-k7S9nkixum"
      },
      "outputs": [],
      "source": [
        "import numpy as np\n",
        "from trainer.model import DEVICE\n",
        "\n",
        "def predict(self, inputs: np.ndarray, batch: bool = True) -> np.ndarray:\n",
        "    inputs_batch = inputs if batch else np.stack([inputs])\n",
        "    channels_first_inputs = inputs_batch.swapaxes(1, -1)\n",
        "    inputs_pt = torch.from_numpy(channels_first_inputs).to(DEVICE)\n",
        "    with torch.no_grad():\n",
        "        predictions = self(inputs_pt).cpu().numpy().swapaxes(1, -1)\n",
        "        return predictions if batch else predictions[0]\n",
        "\n",
        "predictions = predict(model, inputs, batch=False)\n",
        "\n",
        "show_labels(labels)\n",
        "show_labels(predictions)"
      ],
      "id": "d-k7S9nkixum"
    },
    {
      "cell_type": "code",
      "execution_count": 59,
      "metadata": {
        "colab": {
          "base_uri": "https://localhost:8080/"
        },
        "id": "loeiF39nTd63",
        "outputId": "563ecfac-3e68-4c73-8b65-cc5ff23d2cb7"
      },
      "outputs": [
        {
          "output_type": "execute_result",
          "data": {
            "text/plain": [
              "(256, 256, 2)"
            ]
          },
          "metadata": {},
          "execution_count": 59
        }
      ],
      "source": [
        "predictions.shape"
      ],
      "id": "loeiF39nTd63"
    },
    {
      "cell_type": "markdown",
      "metadata": {
        "id": "2hIMtf7JCiMi"
      },
      "source": [
        "# 5. ⛵ Further exploration\n",
        "\n",
        "This notebook demonstrated a simple model to start exploring the problem of weather forecasting using deep neural networks. The model has less than 100k parameters and only a few Conv2D layers to keep training time short. Even so, the model is able to distinguish cloud patterns for broad rain vs no rain detection. \n",
        "\n",
        "There has been a lot of interesting research work on weather nowcasting recently, especially with [U-Net](https://en.wikipedia.org/wiki/U-Net) style model architectures. If you are interested in diving deeper, here are some articles from Google Research: \n",
        "\n",
        "*  [Google Research blog on nowcasting](https://ai.googleblog.com/2021/11/metnet-2-deep-learning-for-12-hour.html)\n",
        "*  [MetNet paper](https://arxiv.org/abs/2003.12140)"
      ],
      "id": "2hIMtf7JCiMi"
    },
    {
      "cell_type": "markdown",
      "metadata": {
        "id": "efcabd53-e81e-4d72-a453-e2fb6dcaa7ae"
      },
      "source": [
        "# 6. 🧹 Clean Up"
      ],
      "id": "efcabd53-e81e-4d72-a453-e2fb6dcaa7ae"
    },
    {
      "cell_type": "markdown",
      "metadata": {
        "id": "b002e48a-035c-4369-a161-aa2d800a70b2"
      },
      "source": [
        "To **avoid incurring charges** to your Google Cloud account for the resources used in this tutorial, either delete the project that contains the resources, or keep the project and delete the individual resources."
      ],
      "id": "b002e48a-035c-4369-a161-aa2d800a70b2"
    },
    {
      "cell_type": "markdown",
      "metadata": {
        "id": "9fc97850-80dd-4c24-80d0-f93825d96e0e"
      },
      "source": [
        "## Deleting the project\n",
        "\n",
        "The **easiest** way to **eliminate billing** is to delete the project that you created for the tutorial.\n",
        "\n",
        "To delete the project:\n",
        "\n",
        "> ⚠️ Deleting a project has the following effects:\n",
        ">\n",
        "> * **Everything in the project is deleted.** If you used an existing project for this tutorial, when you delete it, you also delete any other work you've done in the project.\n",
        ">\n",
        "> * **Custom project IDs are lost.** When you created this project, you might have created a custom project ID that you want to use in the future. To preserve the URLs that use the project ID, such as an appspot.com URL, delete selected resources inside the project instead of deleting the whole project.\n",
        ">\n",
        "> If you plan to explore multiple tutorials and quickstarts, **reusing** projects can help you avoid exceeding project **quota limits**.\n",
        "\n",
        "1. In the Cloud Console, go to the **Manage resources** page.\n",
        "\n",
        "  <button>\n",
        "\n",
        "  [Go to Manage resources](https://console.cloud.google.com/iam-admin/projects)\n",
        "\n",
        "  </button>\n",
        "\n",
        "1. In the project list, select the project that you want to delete, and then click **Delete**.\n",
        "\n",
        "1. In the dialog, type the project ID, and then click **Shut down** to delete the project."
      ],
      "id": "9fc97850-80dd-4c24-80d0-f93825d96e0e"
    }
  ],
  "metadata": {
    "colab": {
      "provenance": [],
      "toc_visible": true
    },
    "environment": {
      "kernel": "python3",
      "name": "tf2-gpu.2-6.m82",
      "type": "gcloud",
      "uri": "gcr.io/deeplearning-platform-release/tf2-gpu.2-6:m82"
    },
    "gpuClass": "standard",
    "kernelspec": {
      "display_name": "Python 3",
      "language": "python",
      "name": "python3"
    },
    "language_info": {
      "codemirror_mode": {
        "name": "ipython",
        "version": 3
      },
      "file_extension": ".py",
      "mimetype": "text/x-python",
      "name": "python",
      "nbconvert_exporter": "python",
      "pygments_lexer": "ipython3",
      "version": "3.6.8"
    }
  },
  "nbformat": 4,
  "nbformat_minor": 5
}
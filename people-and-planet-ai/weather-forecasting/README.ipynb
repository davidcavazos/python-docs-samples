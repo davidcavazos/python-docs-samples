{
 "cells": [
  {
   "cell_type": "markdown",
   "metadata": {},
   "source": [
    "# First"
   ]
  },
  {
   "cell_type": "code",
   "execution_count": null,
   "metadata": {},
   "outputs": [],
   "source": [
    "print(\"🛑 from first\")\n",
    "!ls -lh .\n",
    "assert project == \"dcavazos-lyra\""
   ]
  },
  {
   "cell_type": "markdown",
   "metadata": {},
   "source": [
    "# Second"
   ]
  },
  {
   "cell_type": "code",
   "execution_count": null,
   "metadata": {},
   "outputs": [],
   "source": [
    "x = 42\n",
    "print(\"🛑 from second\")\n",
    "!ls -lh .\n",
    "assert project == \"wrong\", project\n",
    "assert x == 0"
   ]
  }
 ],
 "metadata": {
  "kernelspec": {
   "display_name": "Python 3.9.12 ('env': venv)",
   "language": "python",
   "name": "python3"
  },
  "language_info": {
   "name": "python",
   "version": "3.9.12"
  },
  "orig_nbformat": 4,
  "vscode": {
   "interpreter": {
    "hash": "46b0b082d6e063442b02c46562965e743a915d27a9a4d4c37f9d747b752a5245"
   }
  }
 },
 "nbformat": 4,
 "nbformat_minor": 2
}
